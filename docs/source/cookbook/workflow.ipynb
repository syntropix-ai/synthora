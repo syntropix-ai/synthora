{
 "cells": [
  {
   "cell_type": "code",
   "execution_count": 1,
   "metadata": {},
   "outputs": [],
   "source": [
    "from synthora.workflows import task\n",
    "from synthora.workflows.base_task import BaseTask\n",
    "from synthora.workflows.context.base import BaseContext\n",
    "from synthora.workflows.scheduler.base import BaseScheduler\n",
    "from synthora.workflows.scheduler.process_pool import ProcessPoolScheduler\n",
    "from synthora.workflows.scheduler import ThreadPoolScheduler"
   ]
  },
  {
   "cell_type": "markdown",
   "metadata": {
    "vscode": {
     "languageId": "plaintext"
    }
   },
   "source": [
    "workflow的组成：\n",
    "scheduler调度器，task，context\n",
    "\n",
    "task是基本执行单元，通常是一个函数\n",
    "调度器会按照特定的策略，并行或串行调用task\n",
    "context允许task在运行过程中读取，存储信息，同时实现循环，条件判断等高级功能"
   ]
  },
  {
   "cell_type": "markdown",
   "metadata": {},
   "source": [
    "如何初始化task,两种方式"
   ]
  },
  {
   "cell_type": "code",
   "execution_count": 2,
   "metadata": {},
   "outputs": [],
   "source": [
    "@task\n",
    "def add1(x: int, y: int) -> int:\n",
    "    return x + y\n",
    "\n",
    "\n",
    "@task(name=\"add2\")\n",
    "def add2(x: int, y: int) -> int:\n",
    "    return x + y\n",
    "\n",
    "def _add3(x: int, y: int) -> int:\n",
    "    return x + y\n",
    "\n",
    "add3 = BaseTask(_add3, name=\"add3\")"
   ]
  },
  {
   "cell_type": "markdown",
   "metadata": {},
   "source": [
    "Task签名\n",
    "task签名允许提前设置task参数，允许用户实现更复杂的功能"
   ]
  },
  {
   "cell_type": "code",
   "execution_count": 3,
   "metadata": {},
   "outputs": [
    {
     "data": {
      "text/plain": [
       "3"
      ]
     },
     "execution_count": 3,
     "metadata": {},
     "output_type": "execute_result"
    }
   ],
   "source": [
    "add1 = add1.s(1)\n",
    "# or\n",
    "# add1 = add1.signature(1)\n",
    "\n",
    "add1(2) # will return 3"
   ]
  },
  {
   "cell_type": "markdown",
   "metadata": {},
   "source": [
    "可以添加immutable参数，使得task忽略外部参数"
   ]
  },
  {
   "cell_type": "code",
   "execution_count": 4,
   "metadata": {},
   "outputs": [
    {
     "name": "stdout",
     "output_type": "stream",
     "text": [
      "add1() takes 2 positional arguments but 3 were given\n"
     ]
    }
   ],
   "source": [
    "try:\n",
    "    add1(1, 2) # will raise an error\n",
    "except TypeError as e:\n",
    "    print(e)"
   ]
  },
  {
   "cell_type": "code",
   "execution_count": 5,
   "metadata": {},
   "outputs": [
    {
     "data": {
      "text/plain": [
       "3"
      ]
     },
     "execution_count": 5,
     "metadata": {},
     "output_type": "execute_result"
    }
   ],
   "source": [
    "add2 = add2.si(1, 2)\n",
    "# or\n",
    "# add2 = add2.signature(1, 2, immutable=True)\n",
    "# or\n",
    "# add2 = add2.signature_immutable(1, 2)\n",
    "add2(3, 3) # will return 3, because the arguments are ignored"
   ]
  },
  {
   "cell_type": "markdown",
   "metadata": {},
   "source": [
    "串行和并行"
   ]
  },
  {
   "cell_type": "markdown",
   "metadata": {},
   "source": [
    "有两种添加串行任务的方法，第一种是使用函数"
   ]
  },
  {
   "cell_type": "code",
   "execution_count": 6,
   "metadata": {},
   "outputs": [],
   "source": [
    "\n",
    "\n",
    "\n",
    "flow = (\n",
    "    BaseScheduler()\n",
    "    .add_task(BaseTask(_add3))\n",
    "    .add_tasks(BaseTask(_add3).s(1), BaseTask(_add3).s(2))\n",
    ")"
   ]
  },
  {
   "cell_type": "markdown",
   "metadata": {},
   "source": [
    "flow也可以使用签名"
   ]
  },
  {
   "cell_type": "code",
   "execution_count": 7,
   "metadata": {},
   "outputs": [
    {
     "data": {
      "text/plain": [
       "5"
      ]
     },
     "execution_count": 7,
     "metadata": {},
     "output_type": "execute_result"
    }
   ],
   "source": [
    "flow = flow.s(1)\n",
    "flow.run(1)"
   ]
  },
  {
   "cell_type": "markdown",
   "metadata": {},
   "source": [
    "为什么会输出5？\n",
    "\n",
    "这是因为workflow会将上一个task的返回值作为参数添加到下一个任务中\n",
    "\n",
    "First Step: flow get input: (1, 1), 传入第一个task中\n",
    "第一个task返回1 + 1 = 2\n",
    "第二个task我们预先指定了输入为1，与上一个task的返回值2一起作为参数\n",
    "第二个task返回2 + 1 = 3\n",
    "同理，第三个task返回3 + 2 = 5\n"
   ]
  },
  {
   "cell_type": "markdown",
   "metadata": {},
   "source": [
    "为了简化workflow的创建流程，你可以使用python运算符声明串行workflow"
   ]
  },
  {
   "cell_type": "code",
   "execution_count": 8,
   "metadata": {},
   "outputs": [],
   "source": [
    "flow = BaseTask(_add3) >> BaseTask(_add3).s(1) >> BaseTask(_add3).s(2)"
   ]
  },
  {
   "cell_type": "markdown",
   "metadata": {},
   "source": [
    "flow可以嵌套"
   ]
  },
  {
   "cell_type": "code",
   "execution_count": 9,
   "metadata": {},
   "outputs": [],
   "source": [
    "flow = flow >> BaseTask(_add3).s(3)"
   ]
  },
  {
   "cell_type": "markdown",
   "metadata": {},
   "source": [
    "并行任务同样有两种添加方式"
   ]
  },
  {
   "cell_type": "code",
   "execution_count": 10,
   "metadata": {},
   "outputs": [],
   "source": [
    "\n",
    "\n",
    "flow = ThreadPoolScheduler().add_task_group([\n",
    "    BaseTask(_add3).s(0),\n",
    "    BaseTask(_add3).s(1),\n",
    "    BaseTask(_add3).s(2),\n",
    "    BaseTask(_add3).s(3),\n",
    "])"
   ]
  },
  {
   "cell_type": "code",
   "execution_count": 11,
   "metadata": {},
   "outputs": [
    {
     "data": {
      "text/plain": [
       "[1, 2, 3, 4]"
      ]
     },
     "execution_count": 11,
     "metadata": {},
     "output_type": "execute_result"
    }
   ],
   "source": [
    "flow.run(1)"
   ]
  },
  {
   "cell_type": "markdown",
   "metadata": {},
   "source": [
    "与串行任务不同，并行任务的输入参数会分别传入所有task\n",
    "\n",
    "task1收到的参数是0, 1\n",
    "task2收到的是1, 1\n",
    "..."
   ]
  },
  {
   "cell_type": "markdown",
   "metadata": {},
   "source": [
    "串行任务同样可以通过表达式声明"
   ]
  },
  {
   "cell_type": "code",
   "execution_count": 12,
   "metadata": {},
   "outputs": [],
   "source": [
    "flow = BaseTask(_add3).s(0) | BaseTask(_add3).s(1) | BaseTask(_add3).s(2) | BaseTask(_add3).s(3)"
   ]
  },
  {
   "cell_type": "markdown",
   "metadata": {},
   "source": [
    "并行和串行可以一起使用"
   ]
  },
  {
   "cell_type": "code",
   "execution_count": 13,
   "metadata": {},
   "outputs": [
    {
     "data": {
      "text/plain": [
       "6"
      ]
     },
     "execution_count": 13,
     "metadata": {},
     "output_type": "execute_result"
    }
   ],
   "source": [
    "flow = (BaseTask(_add3) | BaseTask(_add3)) >> BaseTask(_add3)\n",
    "flow.run(1, 2)"
   ]
  },
  {
   "cell_type": "markdown",
   "metadata": {},
   "source": [
    "BaseTask(_add3) | BaseTask(_add3) 都会接收到1, 2作为参数，返回1 + 2 = 3\n",
    "最后一个任务会接受两个3作为输入，返回3 + 3 = 6"
   ]
  },
  {
   "cell_type": "markdown",
   "metadata": {},
   "source": [
    "为了实现workflow的高级用法，我们引入了context允许跨task的数据管理。\n",
    "要使用context，请将其作为函数的第一个参数并标注类型"
   ]
  },
  {
   "cell_type": "code",
   "execution_count": 14,
   "metadata": {},
   "outputs": [
    {
     "name": "stdout",
     "output_type": "stream",
     "text": [
      "TaskState.RUNNING\n",
      "TaskState.RUNNING\n",
      "TaskState.RUNNING\n",
      "[2, 3, 4] [2, 3, 4]\n"
     ]
    }
   ],
   "source": [
    "\n",
    "\n",
    "\n",
    "def add(ctx: BaseContext, x: int, y: int) -> int:\n",
    "    with ctx:\n",
    "        print(ctx.get_state(f\"{x + y}\"))\n",
    "        if \"ans\" not in ctx:\n",
    "            ctx[\"ans\"] = [x + y]\n",
    "        else:\n",
    "            ctx[\"ans\"] = ctx[\"ans\"] + [x + y]\n",
    "    return x + y\n",
    "\n",
    "\n",
    "flow = ProcessPoolScheduler()\n",
    "(flow | BaseTask(add, \"2\").s(1) | BaseTask(add, \"3\").s(2) | BaseTask(add, \"4\").s(3))\n",
    "\n",
    "\n",
    "print(flow.run(1), flow.get_context()[\"ans\"])"
   ]
  },
  {
   "cell_type": "markdown",
   "metadata": {},
   "source": [
    "您可以使用任何Scheduler，Synthroa会根据scheduler类型自动选择匹配的context"
   ]
  },
  {
   "cell_type": "markdown",
   "metadata": {},
   "source": [
    "下面让我们使用context完成高级功能，例如loop和if"
   ]
  },
  {
   "cell_type": "code",
   "execution_count": 15,
   "metadata": {},
   "outputs": [
    {
     "name": "stdout",
     "output_type": "stream",
     "text": [
      "This is 0th time\n",
      "This is 1th time\n",
      "This is 2th time\n",
      "This is 3th time\n",
      "8 8\n"
     ]
    }
   ],
   "source": [
    "def add(ctx: BaseContext) -> int:\n",
    "    with ctx:\n",
    "        a = ctx.get(\"a\", 1)\n",
    "        b = ctx.get(\"b\", 1)\n",
    "        cnt = ctx.get(\"cnt\", 0)\n",
    "        print(f\"This is {cnt}th time\")\n",
    "        ctx[\"cnt\"] = cnt + 1\n",
    "        ctx[\"ans\"] = a + b\n",
    "        ctx[\"a\"] = a + 1\n",
    "        ctx[\"b\"] = b + 1\n",
    "\n",
    "        if a + b < 5:\n",
    "            ctx.set_cursor(-1)\n",
    "    return int(a + b)\n",
    "\n",
    "\n",
    "flow = BaseTask(add) >> BaseTask(add).si()\n",
    "\n",
    "\n",
    "print(flow.run(), flow.get_context()[\"ans\"])"
   ]
  },
  {
   "cell_type": "code",
   "execution_count": 16,
   "metadata": {},
   "outputs": [],
   "source": [
    "from typing import Any, List\n",
    "from synthora.types.enums import TaskState\n",
    "\n",
    "@task(name=\"skip\")\n",
    "def task1(a:int, b: int) -> int:\n",
    "    return a + b\n",
    "\n",
    "\n",
    "@task\n",
    "def task2(a: int, b: int) -> int:\n",
    "    print(\"hello\", a, b)\n",
    "    return a + b\n",
    "\n",
    "@task\n",
    "def task0() -> List[int]:\n",
    "    print(\"task0\")\n",
    "    return [1, 2]\n",
    "\n",
    "\n",
    "@task\n",
    "def bratch(ctx: BaseContext, previous: Any) -> int:\n",
    "    print(\"bratch\", previous)\n",
    "    with ctx:\n",
    "        ctx.set_state(\"skip\", TaskState.SKIPPED)\n",
    "    \n",
    "    return previous"
   ]
  },
  {
   "cell_type": "code",
   "execution_count": 17,
   "metadata": {},
   "outputs": [
    {
     "name": "stdout",
     "output_type": "stream",
     "text": [
      "task0\n",
      "bratch [1, 2]\n",
      "hello 1 2\n"
     ]
    },
    {
     "data": {
      "text/plain": [
       "[3, 3]"
      ]
     },
     "execution_count": 17,
     "metadata": {},
     "output_type": "execute_result"
    }
   ],
   "source": [
    "bratch.flat_result = True\n",
    "flow = task0 >> bratch >> (task1 | task2)\n",
    "flow.run()"
   ]
  },
  {
   "cell_type": "markdown",
   "metadata": {},
   "source": [
    "这里我们使用task的name，在bratch中手动跳过了task1的执行"
   ]
  }
 ],
 "metadata": {
  "kernelspec": {
   "display_name": ".venv",
   "language": "python",
   "name": "python3"
  },
  "language_info": {
   "codemirror_mode": {
    "name": "ipython",
    "version": 3
   },
   "file_extension": ".py",
   "mimetype": "text/x-python",
   "name": "python",
   "nbconvert_exporter": "python",
   "pygments_lexer": "ipython3",
   "version": "3.13.1"
  }
 },
 "nbformat": 4,
 "nbformat_minor": 2
}
