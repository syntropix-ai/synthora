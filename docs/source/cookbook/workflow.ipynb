{
 "cells": [
  {
   "cell_type": "markdown",
   "metadata": {},
   "source": [
    "# Workflow: Orchestrating Agents with Flexibility\n",
    "\n",
    "Workflow is a powerful system in Synthora that can be used to orchestrate agents to solve various problems, allowing users to define their own workflows with a high level of flexibility.\n",
    "\n",
    "In this tutorial, we will explore how to use workflow to manage and automate tasks efficiently. We will start with basic concepts and gradually move to more advanced features. Thanks to the flexibility of workflow, the overall process is simple and can be easily customized.\n",
    "\n",
    "Now, if you are ready, let's start!"
   ]
  },
  {
   "cell_type": "markdown",
   "metadata": {},
   "source": [
    "## Prerequisites\n",
    "\n",
    "You are probably excited to start already, but before that, there are some\n",
    "prerequisites you need to prepare. (Sorry!)\n",
    "\n",
    "### Install Synthora\n",
    "\n",
    "Synthora requires Python 3.8+. You can install Synthora via pip:"
   ]
  },
  {
   "cell_type": "code",
   "execution_count": null,
   "metadata": {},
   "outputs": [],
   "source": [
    "!pip install synthora"
   ]
  },
  {
   "cell_type": "code",
   "execution_count": 1,
   "metadata": {},
   "outputs": [],
   "source": [
    "from synthora.workflows import task\n",
    "from synthora.workflows.base_task import BaseTask\n",
    "from synthora.workflows.context.base import BaseContext\n",
    "from synthora.workflows.scheduler import ThreadPoolScheduler\n",
    "from synthora.workflows.scheduler.base import BaseScheduler\n",
    "from synthora.workflows.scheduler.process_pool import ProcessPoolScheduler"
   ]
  },
  {
   "cell_type": "markdown",
   "metadata": {
    "vscode": {
     "languageId": "plaintext"
    }
   },
   "source": [
    "## Components of Workflow\n",
    "\n",
    "A workflow in Synthora is composed of three main components: scheduler, task, and context.\n",
    "\n",
    "- **Task**: The basic execution unit, usually a function.\n",
    "- **Scheduler**: Invokes tasks either in parallel or in series according to specific strategies.\n",
    "- **Context**: Allows tasks to read and store information during execution, and supports advanced features like loops and conditional statements."
   ]
  },
  {
   "cell_type": "markdown",
   "metadata": {},
   "source": [
    "Now that we understand the components of a workflow, let's dive into how to initialize a task. There are two ways to do this: \n",
    "\n",
    "1. Using decorators\n",
    "2. Using classes."
   ]
  },
  {
   "cell_type": "code",
   "execution_count": 2,
   "metadata": {},
   "outputs": [],
   "source": [
    "@task\n",
    "def add1(x: int, y: int) -> int:\n",
    "    return x + y\n",
    "\n",
    "\n",
    "@task(name=\"add2\")\n",
    "def add2(x: int, y: int) -> int:\n",
    "    return x + y\n",
    "\n",
    "\n",
    "def _add3(x: int, y: int) -> int:\n",
    "    return x + y\n",
    "\n",
    "\n",
    "add3 = BaseTask(_add3, name=\"add3\")"
   ]
  },
  {
   "cell_type": "markdown",
   "metadata": {},
   "source": [
    "## Task Signature\n",
    "\n",
    "Task signatures allow you to predefine task parameters, enabling users to implement more complex functionalities.\n",
    "\n",
    "By using task signatures, you can set default values for the parameters of a task, making it easier to reuse tasks with predefined configurations. This is particularly useful when you need to run the same task multiple times with the same parameters or when you want to create more complex workflows by chaining tasks together."
   ]
  },
  {
   "cell_type": "code",
   "execution_count": 3,
   "metadata": {},
   "outputs": [
    {
     "data": {
      "text/plain": [
       "3"
      ]
     },
     "execution_count": 3,
     "metadata": {},
     "output_type": "execute_result"
    }
   ],
   "source": [
    "add1 = add1.s(1)\n",
    "# or\n",
    "# add1 = add1.signature(1)\n",
    "\n",
    "add1(2)  # will return 3"
   ]
  },
  {
   "cell_type": "markdown",
   "metadata": {},
   "source": [
    "Task signatures also support immutable parameters, which ensure that the task ignores any external parameters passed to it during execution. This feature helps maintain consistency and predictability in task execution, especially in complex workflows."
   ]
  },
  {
   "cell_type": "code",
   "execution_count": 4,
   "metadata": {},
   "outputs": [
    {
     "name": "stdout",
     "output_type": "stream",
     "text": [
      "add1() takes 2 positional arguments but 3 were given\n"
     ]
    }
   ],
   "source": [
    "try:\n",
    "    add1(1, 2)  # will raise an error\n",
    "except TypeError as e:\n",
    "    print(e)"
   ]
  },
  {
   "cell_type": "code",
   "execution_count": 5,
   "metadata": {},
   "outputs": [
    {
     "data": {
      "text/plain": [
       "3"
      ]
     },
     "execution_count": 5,
     "metadata": {},
     "output_type": "execute_result"
    }
   ],
   "source": [
    "add2 = add2.si(1, 2)\n",
    "# or\n",
    "# add2 = add2.signature(1, 2, immutable=True)\n",
    "# or\n",
    "# add2 = add2.signature_immutable(1, 2)\n",
    "add2(3, 3)  # will return 3, because the arguments are ignored"
   ]
  },
  {
   "cell_type": "markdown",
   "metadata": {},
   "source": [
    "## Serial and Parallel\n",
    "\n",
    "In Synthora, tasks can be executed either serially or in parallel, providing flexibility in how workflows are structured.\n"
   ]
  },
  {
   "cell_type": "markdown",
   "metadata": {},
   "source": [
    "### Serial Tasks\n",
    "\n",
    "Serial tasks are executed one after another, with each task's output being passed as input to the next task. This allows for a linear flow of data through the tasks.\n",
    "\n",
    "To add serial tasks, you can use the `add_task` and `add_tasks` methods of the scheduler:"
   ]
  },
  {
   "cell_type": "code",
   "execution_count": 6,
   "metadata": {},
   "outputs": [],
   "source": [
    "flow = (\n",
    "    BaseScheduler()\n",
    "    .add_task(BaseTask(_add3))\n",
    "    .add_tasks(BaseTask(_add3).s(1), BaseTask(_add3).s(2))\n",
    ")"
   ]
  },
  {
   "cell_type": "markdown",
   "metadata": {},
   "source": [
    "The flow can also use signatures to predefine task parameters, ensuring consistency and simplifying the workflow configuration."
   ]
  },
  {
   "cell_type": "code",
   "execution_count": 7,
   "metadata": {},
   "outputs": [
    {
     "data": {
      "text/plain": [
       "5"
      ]
     },
     "execution_count": 7,
     "metadata": {},
     "output_type": "execute_result"
    }
   ],
   "source": [
    "flow = flow.s(1)\n",
    "flow.run(1)"
   ]
  },
  {
   "cell_type": "markdown",
   "metadata": {},
   "source": [
    "why the output is 5?\n",
    "\n",
    "This is because the workflow will add the return value of the previous task as a parameter to the next task.\n",
    "\n",
    "First Step: The flow gets the input: (1, 1), and passes it to the first task. The first task returns 1 + 1 = 2. \n",
    "\n",
    "For the second task, we have pre-specified the input as 1, which, combined with the return value of the previous task (2), is passed as parameters. The second task returns 2 + 1 = 3. \n",
    "\n",
    "Similarly, the third task returns 3 + 2 = 5."
   ]
  },
  {
   "cell_type": "markdown",
   "metadata": {},
   "source": [
    "Alternatively, you can use Python operators to declare serial workflows, which can simplify the creation process:"
   ]
  },
  {
   "cell_type": "code",
   "execution_count": 8,
   "metadata": {},
   "outputs": [],
   "source": [
    "flow = BaseTask(_add3) >> BaseTask(_add3).s(1) >> BaseTask(_add3).s(2)"
   ]
  },
  {
   "cell_type": "markdown",
   "metadata": {},
   "source": [
    "Additionally, the flow can be nested, allowing for more complex workflows."
   ]
  },
  {
   "cell_type": "code",
   "execution_count": 9,
   "metadata": {},
   "outputs": [],
   "source": [
    "flow = flow >> BaseTask(_add3).s(3)"
   ]
  },
  {
   "cell_type": "markdown",
   "metadata": {},
   "source": [
    "### Parallel Tasks\n",
    "Parallel tasks are executed simultaneously, with each task receiving the same input parameters. This allows for concurrent processing and can significantly speed up the workflow when tasks are independent of each other.\n",
    "\n",
    "To add parallel tasks, you can use the add_task_group method of the scheduler:"
   ]
  },
  {
   "cell_type": "code",
   "execution_count": 10,
   "metadata": {},
   "outputs": [],
   "source": [
    "flow = ThreadPoolScheduler().add_task_group(\n",
    "    [\n",
    "        BaseTask(_add3).s(0),\n",
    "        BaseTask(_add3).s(1),\n",
    "        BaseTask(_add3).s(2),\n",
    "        BaseTask(_add3).s(3),\n",
    "    ]\n",
    ")"
   ]
  },
  {
   "cell_type": "code",
   "execution_count": 11,
   "metadata": {},
   "outputs": [
    {
     "data": {
      "text/plain": [
       "[1, 2, 3, 4]"
      ]
     },
     "execution_count": 11,
     "metadata": {},
     "output_type": "execute_result"
    }
   ],
   "source": [
    "flow.run(1)"
   ]
  },
  {
   "cell_type": "markdown",
   "metadata": {},
   "source": [
    "Unlike serial tasks, the input parameters for parallel tasks are passed to each task individually. For example:\n",
    "\n",
    "task1 receives parameters 0, 1\n",
    "task2 receives parameters 1, 1\n",
    "task3 receives parameters 2, 1\n",
    "task4 receives parameters 3, 1\n",
    "Each task will process its own set of parameters independently and simultaneously."
   ]
  },
  {
   "cell_type": "markdown",
   "metadata": {},
   "source": [
    "Parallel tasks can also be declared using expressions:"
   ]
  },
  {
   "cell_type": "code",
   "execution_count": 12,
   "metadata": {},
   "outputs": [],
   "source": [
    "flow = (\n",
    "    BaseTask(_add3).s(0)\n",
    "    | BaseTask(_add3).s(1)\n",
    "    | BaseTask(_add3).s(2)\n",
    "    | BaseTask(_add3).s(3)\n",
    ")"
   ]
  },
  {
   "cell_type": "markdown",
   "metadata": {},
   "source": [
    "### Combining Serial and Parallel Tasks\n",
    "Synthora allows you to combine serial and parallel tasks within the same workflow. This enables the creation of complex workflows that can handle various processing needs.\n",
    "\n",
    "For example, you can create a workflow where two tasks are executed in parallel, and their results are then passed to a subsequent task:"
   ]
  },
  {
   "cell_type": "code",
   "execution_count": 13,
   "metadata": {},
   "outputs": [
    {
     "data": {
      "text/plain": [
       "6"
      ]
     },
     "execution_count": 13,
     "metadata": {},
     "output_type": "execute_result"
    }
   ],
   "source": [
    "flow = (BaseTask(_add3) | BaseTask(_add3)) >> BaseTask(_add3)\n",
    "flow.run(1, 2)"
   ]
  },
  {
   "cell_type": "markdown",
   "metadata": {},
   "source": [
    "In this example, `BaseTask(_add3) | BaseTask(_add3)` will execute two tasks in parallel, and the results will be passed to the next task in the sequence.\n",
    "\n",
    "Both instances of `BaseTask(_add3)` will receive `1` and `2` as parameters. Each task will compute the sum of these parameters, resulting in `1 + 2 = 3`. These two results (`3` and `3`) will then be passed as input to the subsequent task in the workflow.\n",
    "\n",
    "The final task in the sequence will take these two `3`s as its input parameters and compute their sum, resulting in `3 + 3 = 6`. Thus, the final output of this combined serial and parallel workflow will be `6`."
   ]
  },
  {
   "cell_type": "markdown",
   "metadata": {},
   "source": [
    "## Advanced Workflow Usage --- Context"
   ]
  },
  {
   "cell_type": "markdown",
   "metadata": {},
   "source": [
    "To achieve advanced usage of the workflow, we introduce context to allow data management across tasks. To use context, please pass it as the first parameter of the function and annotate its type."
   ]
  },
  {
   "cell_type": "code",
   "execution_count": 14,
   "metadata": {},
   "outputs": [
    {
     "name": "stdout",
     "output_type": "stream",
     "text": [
      "TaskState.RUNNING\n",
      "TaskState.RUNNING\n",
      "TaskState.RUNNING\n",
      "[2, 3, 4] [2, 3, 4]\n"
     ]
    }
   ],
   "source": [
    "def add(ctx: BaseContext, x: int, y: int) -> int:\n",
    "    with ctx:\n",
    "        print(ctx.get_state(f\"{x + y}\"))\n",
    "        if \"ans\" not in ctx:\n",
    "            ctx[\"ans\"] = [x + y]\n",
    "        else:\n",
    "            ctx[\"ans\"] = ctx[\"ans\"] + [x + y]\n",
    "    return x + y\n",
    "\n",
    "\n",
    "flow = ProcessPoolScheduler()\n",
    "(\n",
    "    flow\n",
    "    | BaseTask(add, \"2\").s(1)\n",
    "    | BaseTask(add, \"3\").s(2)\n",
    "    | BaseTask(add, \"4\").s(3)\n",
    ")\n",
    "\n",
    "\n",
    "print(flow.run(1), flow.get_context()[\"ans\"])"
   ]
  },
  {
   "cell_type": "markdown",
   "metadata": {},
   "source": [
    "You can use any Scheduler with Context, and Synthora will automatically select the matching context based on the scheduler type."
   ]
  },
  {
   "cell_type": "markdown",
   "metadata": {},
   "source": [
    "Now, let's use context to complete advanced features such as loops and if statements.\n",
    "\n",
    "### Loop\n",
    "\n",
    "To implement a loop in a workflow, you can use the context to manage the loop state and control the flow of tasks. Here's how to create a loop that runs a task multiple times until a condition is met:\n",
    "\n",
    "1. Define a task that updates the context with the current state and checks the loop condition.\n",
    "2. Use the context to set the cursor to the previous task if the loop condition is met."
   ]
  },
  {
   "cell_type": "code",
   "execution_count": 15,
   "metadata": {},
   "outputs": [
    {
     "name": "stdout",
     "output_type": "stream",
     "text": [
      "This is 0th time\n",
      "This is 1th time\n",
      "This is 2th time\n",
      "This is 3th time\n",
      "8 8\n"
     ]
    }
   ],
   "source": [
    "def add(ctx: BaseContext) -> int:\n",
    "    with ctx:\n",
    "        a = ctx.get(\"a\", 1)\n",
    "        b = ctx.get(\"b\", 1)\n",
    "        cnt = ctx.get(\"cnt\", 0)\n",
    "        print(f\"This is {cnt}th time\")\n",
    "        ctx[\"cnt\"] = cnt + 1\n",
    "        ctx[\"ans\"] = a + b\n",
    "        ctx[\"a\"] = a + 1\n",
    "        ctx[\"b\"] = b + 1\n",
    "\n",
    "        if a + b < 5:\n",
    "            ctx.set_cursor(-1)\n",
    "    return int(a + b)\n",
    "\n",
    "\n",
    "flow = BaseTask(add) >> BaseTask(add).si()\n",
    "\n",
    "\n",
    "print(flow.run(), flow.get_context()[\"ans\"])"
   ]
  },
  {
   "cell_type": "markdown",
   "metadata": {},
   "source": [
    "### If\n",
    "\n",
    "To implement conditional logic in a workflow, you can use the context to evaluate conditions and control the flow of tasks. Here's how to create a conditional branch in a workflow:\n",
    "\n",
    "1. Define a task that evaluates a condition and updates the context with the result.\n",
    "2. Use the context to set the state of tasks based on the condition."
   ]
  },
  {
   "cell_type": "code",
   "execution_count": 16,
   "metadata": {},
   "outputs": [],
   "source": [
    "from typing import Any, List\n",
    "\n",
    "from synthora.types.enums import TaskState\n",
    "\n",
    "\n",
    "@task(name=\"skip\")\n",
    "def task1(a: int, b: int) -> int:\n",
    "    return a + b\n",
    "\n",
    "\n",
    "@task\n",
    "def task2(a: int, b: int) -> int:\n",
    "    print(\"hello\", a, b)\n",
    "    return a + b\n",
    "\n",
    "\n",
    "@task\n",
    "def task0() -> List[int]:\n",
    "    print(\"task0\")\n",
    "    return [1, 2]\n",
    "\n",
    "\n",
    "@task\n",
    "def bratch(ctx: BaseContext, previous: Any) -> int:\n",
    "    print(\"bratch\", previous)\n",
    "    with ctx:\n",
    "        ctx.set_state(\"skip\", TaskState.SKIPPED)\n",
    "\n",
    "    return previous"
   ]
  },
  {
   "cell_type": "code",
   "execution_count": 17,
   "metadata": {},
   "outputs": [
    {
     "name": "stdout",
     "output_type": "stream",
     "text": [
      "task0\n",
      "bratch [1, 2]\n",
      "hello 1 2\n"
     ]
    },
    {
     "data": {
      "text/plain": [
       "[3, 3]"
      ]
     },
     "execution_count": 17,
     "metadata": {},
     "output_type": "execute_result"
    }
   ],
   "source": [
    "bratch.flat_result = True\n",
    "flow = task0 >> bratch >> (task1 | task2)\n",
    "flow.run()"
   ]
  },
  {
   "cell_type": "markdown",
   "metadata": {},
   "source": []
  }
 ],
 "metadata": {
  "kernelspec": {
   "display_name": ".venv",
   "language": "python",
   "name": "python3"
  },
  "language_info": {
   "codemirror_mode": {
    "name": "ipython",
    "version": 3
   },
   "file_extension": ".py",
   "mimetype": "text/x-python",
   "name": "python",
   "nbconvert_exporter": "python",
   "pygments_lexer": "ipython3",
   "version": "3.12.9"
  }
 },
 "nbformat": 4,
 "nbformat_minor": 2
}
