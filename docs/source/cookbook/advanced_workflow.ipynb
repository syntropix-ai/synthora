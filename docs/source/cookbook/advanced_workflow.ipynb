{
 "cells": [
  {
   "cell_type": "code",
   "execution_count": 1,
   "metadata": {},
   "outputs": [],
   "source": [
    "from synthora.workflows import BaseTask, task\n",
    "from synthora.workflows.buildins import empty, for_loop, if_else"
   ]
  },
  {
   "cell_type": "code",
   "execution_count": 2,
   "metadata": {},
   "outputs": [],
   "source": [
    "@task(name=\"hello\")\n",
    "def say_hello():\n",
    "    print(\"Hello World\")\n",
    "\n",
    "\n",
    "@task(name=\"to\")\n",
    "def say_hello_to(name):\n",
    "    print(f\"Hello {name}\")"
   ]
  },
  {
   "cell_type": "code",
   "execution_count": 3,
   "metadata": {},
   "outputs": [
    {
     "name": "stdout",
     "output_type": "stream",
     "text": [
      "Hello World\n",
      "Hello Synthora\n",
      "Hello World\n",
      "Hello Synthora\n",
      "Hello World\n",
      "Hello Synthora\n"
     ]
    }
   ],
   "source": [
    "flow = say_hello >> say_hello_to.si(\"Synthora\") >> for_loop(-2, 3)\n",
    "flow.run()"
   ]
  },
  {
   "cell_type": "code",
   "execution_count": 4,
   "metadata": {},
   "outputs": [
    {
     "name": "stdout",
     "output_type": "stream",
     "text": [
      "Hello World\n",
      "Hello Synthora\n",
      "Hello World\n",
      "Hello Synthora\n",
      "Hello World\n",
      "Hello Synthora\n"
     ]
    }
   ],
   "source": [
    "flow = say_hello >> say_hello_to.si(\"Synthora\") >> for_loop(\"hello\", 3)\n",
    "flow.run()"
   ]
  },
  {
   "cell_type": "code",
   "execution_count": 5,
   "metadata": {},
   "outputs": [],
   "source": [
    "def add(a, b):\n",
    "    return a + b\n",
    "\n",
    "\n",
    "def print_hello(*args):\n",
    "    print(\"Hello\", *args)\n",
    "\n",
    "\n",
    "def print_world(*args):\n",
    "    print(\"World\", *args)"
   ]
  },
  {
   "cell_type": "code",
   "execution_count": 6,
   "metadata": {},
   "outputs": [
    {
     "data": {
      "text/plain": [
       "3"
      ]
     },
     "execution_count": 6,
     "metadata": {},
     "output_type": "execute_result"
    }
   ],
   "source": [
    "flow = empty().s(1, 2) >> BaseTask(add) >> empty()\n",
    "flow.run()"
   ]
  },
  {
   "cell_type": "code",
   "execution_count": 7,
   "metadata": {},
   "outputs": [
    {
     "name": "stdout",
     "output_type": "stream",
     "text": [
      "Hello 3\n"
     ]
    },
    {
     "data": {
      "text/plain": [
       "[None, None]"
      ]
     },
     "execution_count": 7,
     "metadata": {},
     "output_type": "execute_result"
    }
   ],
   "source": [
    "flow = (\n",
    "    empty().s(1, 2)\n",
    "    >> BaseTask(add)\n",
    "    >> if_else(lambda ctx, x: x > 2, \"print_hello\", \"print_world\")\n",
    "    >> (\n",
    "        BaseTask(print_hello, name=\"print_hello\")\n",
    "        | BaseTask(print_world, name=\"print_world\")\n",
    "    )\n",
    ")\n",
    "flow.run()"
   ]
  },
  {
   "cell_type": "code",
   "execution_count": null,
   "metadata": {},
   "outputs": [],
   "source": []
  },
  {
   "cell_type": "code",
   "execution_count": null,
   "metadata": {},
   "outputs": [],
   "source": []
  }
 ],
 "metadata": {
  "kernelspec": {
   "display_name": ".venv",
   "language": "python",
   "name": "python3"
  },
  "language_info": {
   "codemirror_mode": {
    "name": "ipython",
    "version": 3
   },
   "file_extension": ".py",
   "mimetype": "text/x-python",
   "name": "python",
   "nbconvert_exporter": "python",
   "pygments_lexer": "ipython3",
   "version": "3.13.1"
  }
 },
 "nbformat": 4,
 "nbformat_minor": 2
}
