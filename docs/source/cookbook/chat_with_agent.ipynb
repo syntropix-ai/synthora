{
 "cells": [
  {
   "cell_type": "markdown",
   "metadata": {},
   "source": [
    "# Create Your First Synthora Chat Agent 🤖\n",
    "\n",
    "This tutorial will guide you through creating a basic chat agent using Synthora. We'll go through the setup and testing process step by step.\n"
   ]
  },
  {
   "cell_type": "markdown",
   "metadata": {},
   "source": [
    "## 1. Environment Setup\n",
    "First, let's import the necessary libraries and set up our environment:\n"
   ]
  },
  {
   "cell_type": "code",
   "execution_count": 1,
   "metadata": {},
   "outputs": [],
   "source": [
    "import json\n",
    "import warnings\n",
    "import os\n",
    "\n",
    "from synthora.agents import ReactAgent\n",
    "from synthora.callbacks import RichOutputHandler\n",
    "from synthora.configs import AgentConfig"
   ]
  },
  {
   "cell_type": "markdown",
   "metadata": {},
   "source": [
    "## 2. API Key Configuration\n",
    "Set up your OpenAI API key. Make sure to replace it with your own key:\n"
   ]
  },
  {
   "cell_type": "code",
   "execution_count": 2,
   "metadata": {},
   "outputs": [],
   "source": [
    "warnings.filterwarnings(\"ignore\")\n",
    "os.environ[\"OPENAI_API_KEY\"] = \"<your-api-key>\"\n"
   ]
  },
  {
   "cell_type": "markdown",
   "metadata": {},
   "source": [
    "## 3. Load Agent Configuration\n",
    "We'll use a basic YAML configuration. Make sure you have created these two configuration files:\n",
    "\n",
    "`basic_agent.yaml`:\n",
    "```yaml\n",
    "name: basic-assistant\n",
    "type: vanilla\n",
    "model: !include basic_model.yaml\n",
    "prompt: \"You are an AI Assistant. You are here to help me with my queries.\"\n",
    "```\n",
    "\n",
    "`basic_model.yaml`:\n",
    "```yaml\n",
    "name: basic-model\n",
    "model_type: gpt-4\n",
    "backend: openai_chat\n",
    "backend_config:\n",
    "  api_key: \"your-api-key\"\n",
    "config:\n",
    "  temperature: 0\n",
    "  top_p: 1.0\n",
    "  stream: true\n",
    "```"
   ]
  },
  {
   "cell_type": "code",
   "execution_count": 3,
   "metadata": {},
   "outputs": [
    {
     "name": "stdout",
     "output_type": "stream",
     "text": [
      "{\n",
      "  \"name\": \"WebSearcher\",\n",
      "  \"type\": \"react\",\n",
      "  \"description\": \"This agent is a simple AI assistant that can help you search the web.\",\n",
      "  \"model\": {\n",
      "    \"model_type\": \"gpt-4o\",\n",
      "    \"name\": \"searcher\",\n",
      "    \"backend\": \"openai_chat\",\n",
      "    \"config\": {\n",
      "      \"temperature\": 0,\n",
      "      \"top_p\": 1.0,\n",
      "      \"stream\": true\n",
      "    },\n",
      "    \"backend_config\": null\n",
      "  },\n",
      "  \"prompt\": \"You are a task-solving assistant with access to tools. Follow these rules:\\n\\n- Start by generating a \\\"Thought\\\" to explain your reasoning about how to solve the problem, and why you are using the tool.\\n- Then call the necessary tool to solve the problem.\\n- If you determine that no further tools are required and the task is complete, call the \\\"finish\\\" tool to provide the final response.\\n\\nYOU MUST Output the thought first!\\n\",\n",
      "  \"tools\": [\n",
      "    {\n",
      "      \"target\": \"synthora.toolkits.SearchToolkit\",\n",
      "      \"trace\": true,\n",
      "      \"args\": {}\n",
      "    }\n",
      "  ]\n",
      "}\n"
     ]
    }
   ],
   "source": [
    "config = AgentConfig.from_file(\"../../../examples/agents/configs/react_agent.yaml\")\n",
    "\n",
    "print(json.dumps(config.model_dump(), indent=2))"
   ]
  },
  {
   "cell_type": "markdown",
   "metadata": {},
   "source": [
    "## 4. Create Agent Instance\n",
    "Now let's create our agent instance and add an output handler for beautiful formatting:\n"
   ]
  },
  {
   "cell_type": "code",
   "execution_count": 4,
   "metadata": {},
   "outputs": [],
   "source": [
    "agent = ReactAgent.from_config(config)\n",
    "handler = RichOutputHandler()\n",
    "agent.add_handler(handler)\n"
   ]
  },
  {
   "cell_type": "markdown",
   "metadata": {},
   "source": [
    "## 5. Test the Conversation\n",
    "Let's test our agent with a simple question:"
   ]
  },
  {
   "cell_type": "code",
   "execution_count": 5,
   "metadata": {},
   "outputs": [
    {
     "data": {
      "text/html": [
       "<pre style=\"white-space:pre;overflow-x:auto;line-height:normal;font-family:Menlo,'DejaVu Sans Mono',consolas,'Courier New',monospace\"><span style=\"color: #008000; text-decoration-color: #008000\">⠸</span> <span style=\"color: #008000; text-decoration-color: #008000; font-weight: bold\">searcher is thinking...</span>\n",
       "</pre>\n"
      ],
      "text/plain": [
       "\u001b[32m⠸\u001b[0m \u001b[1;32msearcher is thinking...\u001b[0m\n"
      ]
     },
     "metadata": {},
     "output_type": "display_data"
    },
    {
     "data": {
      "text/html": [
       "<pre style=\"white-space:pre;overflow-x:auto;line-height:normal;font-family:Menlo,'DejaVu Sans Mono',consolas,'Courier New',monospace\"></pre>\n"
      ],
      "text/plain": []
     },
     "metadata": {},
     "output_type": "display_data"
    },
    {
     "data": {
      "application/vnd.jupyter.widget-view+json": {
       "model_id": "73417a994c8b4f749d3179881ff799fd",
       "version_major": 2,
       "version_minor": 0
      },
      "text/plain": [
       "Output()"
      ]
     },
     "metadata": {},
     "output_type": "display_data"
    },
    {
     "data": {
      "text/html": [
       "<pre style=\"white-space:pre;overflow-x:auto;line-height:normal;font-family:Menlo,'DejaVu Sans Mono',consolas,'Courier New',monospace\"></pre>\n"
      ],
      "text/plain": []
     },
     "metadata": {},
     "output_type": "display_data"
    },
    {
     "data": {
      "text/html": [
       "<pre style=\"white-space:pre;overflow-x:auto;line-height:normal;font-family:Menlo,'DejaVu Sans Mono',consolas,'Courier New',monospace\"></pre>\n"
      ],
      "text/plain": []
     },
     "metadata": {},
     "output_type": "display_data"
    },
    {
     "data": {
      "text/html": [
       "<pre style=\"white-space:pre;overflow-x:auto;line-height:normal;font-family:Menlo,'DejaVu Sans Mono',consolas,'Courier New',monospace\"><span style=\"color: #008080; text-decoration-color: #008080\">┏━━━━━━━━━━━━━━━━━━━━━━━━━━━━━━━━━━━━━━━━━━━━━━━━━━━━</span> <span style=\"color: #008080; text-decoration-color: #008080\">finish</span> <span style=\"color: #008080; text-decoration-color: #008080\">━━━━━━━━━━━━━━━━━━━━━━━━━━━━━━━━━━━━━━━━━━━━━━━━━━━━━┓</span>\n",
       "<span style=\"color: #008080; text-decoration-color: #008080\">┃ Artificial intelligence (AI) is the intelligence exhibited by machines, particularly computer systems. It is a  ┃</span>\n",
       "<span style=\"color: #008080; text-decoration-color: #008080\">┃ field of research in computer science focused on developing methods and software that enable machines to        ┃</span>\n",
       "<span style=\"color: #008080; text-decoration-color: #008080\">┃ perceive their environment and use learning and intelligence to take actions that maximize their chances of     ┃</span>\n",
       "<span style=\"color: #008080; text-decoration-color: #008080\">┃ achieving defined goals. High-profile applications of AI include advanced web search engines, recommendation    ┃</span>\n",
       "<span style=\"color: #008080; text-decoration-color: #008080\">┃ systems, voice interaction systems, autonomous vehicles, generative and creative tools, and superhuman play in  ┃</span>\n",
       "<span style=\"color: #008080; text-decoration-color: #008080\">┃ strategy games. AI research is divided into subfields centered around specific goals and tools.                 ┃</span>\n",
       "<span style=\"color: #008080; text-decoration-color: #008080\">┗━━━━━━━━━━━━━━━━━━━━━━━━━━━━━━━━━━━━━━━━━━━━━━━━━━━━━━━━━━━━━━━━━━━━━━━━━━━━━━━━━━━━━━━━━━━━━━━━━━━━━━━━━━━━━━━━━┛</span>\n",
       "</pre>\n"
      ],
      "text/plain": [
       "\u001b[36m┏━\u001b[0m\u001b[36m━━━━━━━━━━━━━━━━━━━━━━━━━━━━━━━━━━━━━━━━━━━━━━━━━━━\u001b[0m \u001b[36mfinish\u001b[0m \u001b[36m━━━━━━━━━━━━━━━━━━━━━━━━━━━━━━━━━━━━━━━━━━━━━━━━━━━━\u001b[0m\u001b[36m━┓\u001b[0m\n",
       "\u001b[36m┃\u001b[0m\u001b[36m \u001b[0m\u001b[36mArtificial intelligence (AI) is the intelligence exhibited by machines, particularly computer systems. It is a \u001b[0m\u001b[36m \u001b[0m\u001b[36m┃\u001b[0m\n",
       "\u001b[36m┃\u001b[0m\u001b[36m \u001b[0m\u001b[36mfield of research in computer science focused on developing methods and software that enable machines to       \u001b[0m\u001b[36m \u001b[0m\u001b[36m┃\u001b[0m\n",
       "\u001b[36m┃\u001b[0m\u001b[36m \u001b[0m\u001b[36mperceive their environment and use learning and intelligence to take actions that maximize their chances of    \u001b[0m\u001b[36m \u001b[0m\u001b[36m┃\u001b[0m\n",
       "\u001b[36m┃\u001b[0m\u001b[36m \u001b[0m\u001b[36machieving defined goals. High-profile applications of AI include advanced web search engines, recommendation   \u001b[0m\u001b[36m \u001b[0m\u001b[36m┃\u001b[0m\n",
       "\u001b[36m┃\u001b[0m\u001b[36m \u001b[0m\u001b[36msystems, voice interaction systems, autonomous vehicles, generative and creative tools, and superhuman play in \u001b[0m\u001b[36m \u001b[0m\u001b[36m┃\u001b[0m\n",
       "\u001b[36m┃\u001b[0m\u001b[36m \u001b[0m\u001b[36mstrategy games. AI research is divided into subfields centered around specific goals and tools.                \u001b[0m\u001b[36m \u001b[0m\u001b[36m┃\u001b[0m\n",
       "\u001b[36m┗━━━━━━━━━━━━━━━━━━━━━━━━━━━━━━━━━━━━━━━━━━━━━━━━━━━━━━━━━━━━━━━━━━━━━━━━━━━━━━━━━━━━━━━━━━━━━━━━━━━━━━━━━━━━━━━━━┛\u001b[0m\n"
      ]
     },
     "metadata": {},
     "output_type": "display_data"
    },
    {
     "data": {
      "text/html": [
       "<pre style=\"white-space:pre;overflow-x:auto;line-height:normal;font-family:Menlo,'DejaVu Sans Mono',consolas,'Courier New',monospace\"><span style=\"color: #008000; text-decoration-color: #008000\">┏━━━━━━━━━━━━━━━━━━━━━━━━━━━━━━━━━━━━━━━━━━━━</span> <span style=\"color: #000080; text-decoration-color: #000080; font-weight: bold\">WebSearcher' Response: </span> <span style=\"color: #008000; text-decoration-color: #008000\">━━━━━━━━━━━━━━━━━━━━━━━━━━━━━━━━━━━━━━━━━━━━┓</span>\n",
       "<span style=\"color: #008000; text-decoration-color: #008000\">┃ Artificial intelligence (AI) is the intelligence exhibited by machines, particularly computer systems. It is a  ┃</span>\n",
       "<span style=\"color: #008000; text-decoration-color: #008000\">┃ field of research in computer science focused on developing methods and software that enable machines to        ┃</span>\n",
       "<span style=\"color: #008000; text-decoration-color: #008000\">┃ perceive their environment and use learning and intelligence to take actions that maximize their chances of     ┃</span>\n",
       "<span style=\"color: #008000; text-decoration-color: #008000\">┃ achieving defined goals. High-profile applications of AI include advanced web search engines, recommendation    ┃</span>\n",
       "<span style=\"color: #008000; text-decoration-color: #008000\">┃ systems, voice interaction systems, autonomous vehicles, generative and creative tools, and superhuman play in  ┃</span>\n",
       "<span style=\"color: #008000; text-decoration-color: #008000\">┃ strategy games. AI research is divided into subfields centered around specific goals and tools.                 ┃</span>\n",
       "<span style=\"color: #008000; text-decoration-color: #008000\">┗━━━━━━━━━━━━━━━━━━━━━━━━━━━━━━━━━━━━━━━━━━━━━━━━━━━━━━━━━━━━━━━━━━━━━━━━━━━━━━━━━━━━━━━━━━━━━━━━━━━━━━━━━━━━━━━━━┛</span>\n",
       "</pre>\n"
      ],
      "text/plain": [
       "\u001b[32m┏━\u001b[0m\u001b[32m━━━━━━━━━━━━━━━━━━━━━━━━━━━━━━━━━━━━━━━━━━━\u001b[0m \u001b[1;34mWebSearcher' Response: \u001b[0m \u001b[32m━━━━━━━━━━━━━━━━━━━━━━━━━━━━━━━━━━━━━━━━━━━\u001b[0m\u001b[32m━┓\u001b[0m\n",
       "\u001b[32m┃\u001b[0m\u001b[32m \u001b[0m\u001b[32mArtificial intelligence (AI) is the intelligence exhibited by machines, particularly computer systems. It is a \u001b[0m\u001b[32m \u001b[0m\u001b[32m┃\u001b[0m\n",
       "\u001b[32m┃\u001b[0m\u001b[32m \u001b[0m\u001b[32mfield of research in computer science focused on developing methods and software that enable machines to       \u001b[0m\u001b[32m \u001b[0m\u001b[32m┃\u001b[0m\n",
       "\u001b[32m┃\u001b[0m\u001b[32m \u001b[0m\u001b[32mperceive their environment and use learning and intelligence to take actions that maximize their chances of    \u001b[0m\u001b[32m \u001b[0m\u001b[32m┃\u001b[0m\n",
       "\u001b[32m┃\u001b[0m\u001b[32m \u001b[0m\u001b[32machieving defined goals. High-profile applications of AI include advanced web search engines, recommendation   \u001b[0m\u001b[32m \u001b[0m\u001b[32m┃\u001b[0m\n",
       "\u001b[32m┃\u001b[0m\u001b[32m \u001b[0m\u001b[32msystems, voice interaction systems, autonomous vehicles, generative and creative tools, and superhuman play in \u001b[0m\u001b[32m \u001b[0m\u001b[32m┃\u001b[0m\n",
       "\u001b[32m┃\u001b[0m\u001b[32m \u001b[0m\u001b[32mstrategy games. AI research is divided into subfields centered around specific goals and tools.                \u001b[0m\u001b[32m \u001b[0m\u001b[32m┃\u001b[0m\n",
       "\u001b[32m┗━━━━━━━━━━━━━━━━━━━━━━━━━━━━━━━━━━━━━━━━━━━━━━━━━━━━━━━━━━━━━━━━━━━━━━━━━━━━━━━━━━━━━━━━━━━━━━━━━━━━━━━━━━━━━━━━━┛\u001b[0m\n"
      ]
     },
     "metadata": {},
     "output_type": "display_data"
    }
   ],
   "source": [
    "response = agent.run(\"What is artificial intelligence?\")\n"
   ]
  },
  {
   "cell_type": "markdown",
   "metadata": {},
   "source": [
    "## 🎉 Congratulations!\n",
    "You've successfully created and run your first Synthora chat agent! \n",
    " \n",
    "### Next Steps:\n",
    "- Try different prompts\n",
    "- Adjust model parameters\n",
    "- Add more capabilities (like search functionality)\n",
    " \n",
    "For more examples and documentation, visit our [official documentation](https://docs.synthora.ai)."
   ]
  }
 ],
 "metadata": {
  "kernelspec": {
   "display_name": ".venv",
   "language": "python",
   "name": "python3"
  },
  "language_info": {
   "codemirror_mode": {
    "name": "ipython",
    "version": 3
   },
   "file_extension": ".py",
   "mimetype": "text/x-python",
   "name": "python",
   "nbconvert_exporter": "python",
   "pygments_lexer": "ipython3",
   "version": "3.12.7"
  }
 },
 "nbformat": 4,
 "nbformat_minor": 2
}
