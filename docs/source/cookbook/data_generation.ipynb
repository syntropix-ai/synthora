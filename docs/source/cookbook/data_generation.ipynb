{
 "cells": [
  {
   "cell_type": "markdown",
   "metadata": {},
   "source": [
    "# Data Generation Through Workflow in Synthora\n",
    "\n",
    "Workflow is a powerful system in Synthora that can be used to orchestrate \n",
    "agents on solving various problems, allowing users to define their own workflow\n",
    "with a high level of flexibility.\n",
    "\n",
    "In this tutorial, we will show you how to use workflow to generate data. We\n",
    "will start from the simplest SFT data generation and gradually increase the\n",
    "complexity to COT and ToT data generation. Thanks to the flexibility of\n",
    "workflow, the overall process is simple and can be easily customized.\n",
    "\n",
    "Now, if you are ready, let's start!"
   ]
  },
  {
   "cell_type": "markdown",
   "metadata": {},
   "source": [
    "## Prerequisites\n",
    "Before jumping into the fun stuff, there are a few things you’ll need to set up. (Hang tight—it’s worth it!)\n",
    "\n",
    "### Install Synthora\n",
    "Synthora runs on Python 3.8 or later. You can install it quickly using pip:"
   ]
  },
  {
   "cell_type": "code",
   "execution_count": 1,
   "metadata": {},
   "outputs": [
    {
     "name": "stdout",
     "output_type": "stream",
     "text": [
      "Requirement already satisfied: synthora in /home/lxk/syntropix/Syntropic/.venv/lib/python3.13/site-packages (0.1.1)\n",
      "Requirement already satisfied: asyncio<4.0.0,>=3.4.3 in /home/lxk/syntropix/Syntropic/.venv/lib/python3.13/site-packages (from synthora) (3.4.3)\n",
      "Requirement already satisfied: docstring-parser<0.17,>=0.16 in /home/lxk/syntropix/Syntropic/.venv/lib/python3.13/site-packages (from synthora) (0.16)\n",
      "Requirement already satisfied: fastapi<0.116.0,>=0.115.5 in /home/lxk/syntropix/Syntropic/.venv/lib/python3.13/site-packages (from synthora) (0.115.6)\n",
      "Requirement already satisfied: openai<2.0.0,>=1.55.0 in /home/lxk/syntropix/Syntropic/.venv/lib/python3.13/site-packages (from synthora) (1.58.1)\n",
      "Requirement already satisfied: pydantic<3.0.0,>=2.10.1 in /home/lxk/syntropix/Syntropic/.venv/lib/python3.13/site-packages (from synthora) (2.10.4)\n",
      "Requirement already satisfied: rich<14.0.0,>=13.9.4 in /home/lxk/syntropix/Syntropic/.venv/lib/python3.13/site-packages (from synthora) (13.9.4)\n",
      "Requirement already satisfied: websockets<15.0,>=14.1 in /home/lxk/syntropix/Syntropic/.venv/lib/python3.13/site-packages (from synthora) (14.1)\n",
      "Requirement already satisfied: starlette<0.42.0,>=0.40.0 in /home/lxk/syntropix/Syntropic/.venv/lib/python3.13/site-packages (from fastapi<0.116.0,>=0.115.5->synthora) (0.41.3)\n",
      "Requirement already satisfied: typing-extensions>=4.8.0 in /home/lxk/syntropix/Syntropic/.venv/lib/python3.13/site-packages (from fastapi<0.116.0,>=0.115.5->synthora) (4.12.2)\n",
      "Requirement already satisfied: anyio<5,>=3.5.0 in /home/lxk/syntropix/Syntropic/.venv/lib/python3.13/site-packages (from openai<2.0.0,>=1.55.0->synthora) (4.7.0)\n",
      "Requirement already satisfied: distro<2,>=1.7.0 in /home/lxk/syntropix/Syntropic/.venv/lib/python3.13/site-packages (from openai<2.0.0,>=1.55.0->synthora) (1.9.0)\n",
      "Requirement already satisfied: httpx<1,>=0.23.0 in /home/lxk/syntropix/Syntropic/.venv/lib/python3.13/site-packages (from openai<2.0.0,>=1.55.0->synthora) (0.28.1)\n",
      "Requirement already satisfied: jiter<1,>=0.4.0 in /home/lxk/syntropix/Syntropic/.venv/lib/python3.13/site-packages (from openai<2.0.0,>=1.55.0->synthora) (0.8.2)\n",
      "Requirement already satisfied: sniffio in /home/lxk/syntropix/Syntropic/.venv/lib/python3.13/site-packages (from openai<2.0.0,>=1.55.0->synthora) (1.3.1)\n",
      "Requirement already satisfied: tqdm>4 in /home/lxk/syntropix/Syntropic/.venv/lib/python3.13/site-packages (from openai<2.0.0,>=1.55.0->synthora) (4.67.1)\n",
      "Requirement already satisfied: annotated-types>=0.6.0 in /home/lxk/syntropix/Syntropic/.venv/lib/python3.13/site-packages (from pydantic<3.0.0,>=2.10.1->synthora) (0.7.0)\n",
      "Requirement already satisfied: pydantic-core==2.27.2 in /home/lxk/syntropix/Syntropic/.venv/lib/python3.13/site-packages (from pydantic<3.0.0,>=2.10.1->synthora) (2.27.2)\n",
      "Requirement already satisfied: markdown-it-py>=2.2.0 in /home/lxk/syntropix/Syntropic/.venv/lib/python3.13/site-packages (from rich<14.0.0,>=13.9.4->synthora) (3.0.0)\n",
      "Requirement already satisfied: pygments<3.0.0,>=2.13.0 in /home/lxk/syntropix/Syntropic/.venv/lib/python3.13/site-packages (from rich<14.0.0,>=13.9.4->synthora) (2.18.0)\n",
      "Requirement already satisfied: idna>=2.8 in /home/lxk/syntropix/Syntropic/.venv/lib/python3.13/site-packages (from anyio<5,>=3.5.0->openai<2.0.0,>=1.55.0->synthora) (3.10)\n",
      "Requirement already satisfied: certifi in /home/lxk/syntropix/Syntropic/.venv/lib/python3.13/site-packages (from httpx<1,>=0.23.0->openai<2.0.0,>=1.55.0->synthora) (2024.12.14)\n",
      "Requirement already satisfied: httpcore==1.* in /home/lxk/syntropix/Syntropic/.venv/lib/python3.13/site-packages (from httpx<1,>=0.23.0->openai<2.0.0,>=1.55.0->synthora) (1.0.7)\n",
      "Requirement already satisfied: h11<0.15,>=0.13 in /home/lxk/syntropix/Syntropic/.venv/lib/python3.13/site-packages (from httpcore==1.*->httpx<1,>=0.23.0->openai<2.0.0,>=1.55.0->synthora) (0.14.0)\n",
      "Requirement already satisfied: mdurl~=0.1 in /home/lxk/syntropix/Syntropic/.venv/lib/python3.13/site-packages (from markdown-it-py>=2.2.0->rich<14.0.0,>=13.9.4->synthora) (0.1.2)\n",
      "Note: you may need to restart the kernel to use updated packages.\n"
     ]
    }
   ],
   "source": [
    "%pip install synthora"
   ]
  },
  {
   "cell_type": "markdown",
   "metadata": {},
   "source": [
    "### Import Packages & Set Your API Key\n",
    "\n",
    "In this tutorial, we’ll be using OpenAI’s API for data generation. Before we proceed, let’s import the necessary packages and configure the API key:"
   ]
  },
  {
   "cell_type": "code",
   "execution_count": 1,
   "metadata": {},
   "outputs": [],
   "source": [
    "import os\n",
    "import textwrap\n",
    "from getpass import getpass\n",
    "from typing import Any, Dict, List\n",
    "\n",
    "from synthora.agents import VanillaAgent\n",
    "from synthora.agents.tot_agent import ToTAgent\n",
    "from synthora.messages import user\n",
    "from synthora.messages.base import BaseMessage\n",
    "from synthora.prompts.buildin import ZeroShotCoTPrompt\n",
    "from synthora.utils.pydantic_model import get_pydantic_model\n",
    "from synthora.workflows import task\n",
    "from synthora.workflows.base_task import BaseTask\n",
    "from synthora.workflows.scheduler.process_pool import ProcessPoolScheduler\n",
    "from synthora.workflows.scheduler.thread_pool import ThreadPoolScheduler"
   ]
  },
  {
   "cell_type": "code",
   "execution_count": 2,
   "metadata": {},
   "outputs": [],
   "source": [
    "os.environ[\"OPENAI_API_KEY\"] = getpass(\"Enter your OpenAI API key here: \")"
   ]
  },
  {
   "cell_type": "markdown",
   "metadata": {},
   "source": [
    "### Prompt Preparation\n",
    "\n",
    "To make comparisons easier, let’s prepare prompts for generating data. A good prompt is the foundation for successful data generation. Take time to think through the kind of data you need and craft your prompt accordingly."
   ]
  },
  {
   "cell_type": "code",
   "execution_count": 3,
   "metadata": {},
   "outputs": [],
   "source": [
    "problems = [\n",
    "    \"How many letters 'r' in the word 'strawberry'?\",\n",
    "    \"9.11 and 9.9, which one is bigger?\",\n",
    "]"
   ]
  },
  {
   "cell_type": "markdown",
   "metadata": {},
   "source": [
    "## Simple SFT Data Generation\n",
    "\n",
    "Now we can start to get our hands dirty (Finally!). First, we define a task to\n",
    "generate data using a vanilla agent, which is basically the simplest and most\n",
    "basic, classical form of agents.\n",
    "\n",
    "We first define two tasks, one of which is to generate data using a vanilla\n",
    "agent (basically just run a query), and the other is to convert the data to\n",
    "the format we want.\n",
    "\n",
    "> What are tasks in Synthora?\n",
    ">\n",
    "> Tasks are basic units of workload in workflow. They are the smallest units\n",
    "> of work that can be executed independently. In Synthora, tasks are defined\n",
    "> using the `@task` decorator. For more details, please refer to our official\n",
    "> documentation of workflow.\n"
   ]
  },
  {
   "cell_type": "code",
   "execution_count": 4,
   "metadata": {},
   "outputs": [],
   "source": [
    "@task\n",
    "def generate_simple_data(prompt: str) -> List[BaseMessage]:\n",
    "    agent = VanillaAgent.default()\n",
    "    _ = agent.run(prompt)\n",
    "    return agent.history\n",
    "\n",
    "\n",
    "@task\n",
    "def format_data(*resps: List[BaseMessage]) -> List[Dict[str, str]]:\n",
    "    return [\n",
    "        {\n",
    "            \"prompt\": str(resp[0].content),\n",
    "            \"instruct\": str(resp[1].content),\n",
    "            \"response\": str(resp[2].content),\n",
    "        }\n",
    "        for resp in resps\n",
    "    ]"
   ]
  },
  {
   "cell_type": "markdown",
   "metadata": {},
   "source": [
    "Then we can define a workflow to first generate data on each question and\n",
    "format the responses into a readable format like below:"
   ]
  },
  {
   "cell_type": "code",
   "execution_count": 5,
   "metadata": {},
   "outputs": [
    {
     "data": {
      "text/plain": [
       "[{'prompt': '\\nYou are an AI assistant.\\n',\n",
       "  'instruct': \"How many letters 'r' in the word 'strawberry'?\",\n",
       "  'response': 'The word \"strawberry\" contains two letters \"r.\"'},\n",
       " {'prompt': '\\nYou are an AI assistant.\\n',\n",
       "  'instruct': '9.11 and 9.9, which one is bigger?',\n",
       "  'response': \"The number 9.11 is larger than 9.9. Here's a breakdown:\\n\\n- 9.11 can be thought of as 9 + 0.11.\\n- 9.9 can be thought of as 9 + 0.90.\\n\\nWhen comparing the decimal parts, 0.11 is less than 0.90; thus, 9.11 is smaller than 9.9. \\n\\nHence, 9.9 is bigger than 9.11.\"}]"
      ]
     },
     "execution_count": 5,
     "metadata": {},
     "output_type": "execute_result"
    }
   ],
   "source": [
    "flow = ThreadPoolScheduler.map(generate_simple_data, problems) >> format_data\n",
    "flow.run()"
   ]
  },
  {
   "cell_type": "markdown",
   "metadata": {},
   "source": [
    "There we get some simple data that can be used for simple SFT, which is\n",
    "basically just some query and answers without any intermediate steps. The\n",
    "quality of the data, however, could be low and containing mistakes.\n",
    "\n",
    "Now, what if we want to generate more complex data with better quality? It's\n",
    "time for Chain of Thoughts (COT) or Tree of Thoughts (ToT) data to kick in.\n",
    "\n",
    "## CoT Data Generation\n",
    "\n",
    "Well, it's not that hard to generate CoT data actually. The only thing we need\n",
    "to do is to change the prompt to `ZeroShotCoTPrompt`, which is the simplest\n",
    "prompt guiding the agent to output the thinking steps.\n",
    "\n",
    "> We are using `ZeroShotCoTPrompt`, which is a basical CoT prompts with no \n",
    "> examples, for a quick glance here. If you want to generate data with higher \n",
    "> quality (or more at your preference), you can augment it with some examples \n",
    "> of your own."
   ]
  },
  {
   "cell_type": "code",
   "execution_count": 6,
   "metadata": {},
   "outputs": [
    {
     "data": {
      "text/plain": [
       "[{'prompt': '\\nSolve the following problem step by step. For each step,\\ncarefully explain your reasoning, include all calculations, and state any assumptions you make.\\nEnsure that each step logically leads to the next, and provide a clear and concise final answer at the end.\\nIf relevant, break the problem into smaller parts and address each part individually before combining the results.\\n',\n",
       "  'instruct': \"How many letters 'r' in the word 'strawberry'?\",\n",
       "  'response': \"To solve this problem, we need to count the occurrences of the letter 'r' in the word 'strawberry.' \\n\\nLet's proceed step by step:\\n\\n1. **Identify the word:** The word we are analyzing is 'strawberry.'\\n\\n2. **List the letters:** Write out the letters in 'strawberry' to ensure none are missed:\\n   - s\\n   - t\\n   - r\\n   - a\\n   - w\\n   - b\\n   - e\\n   - r\\n   - r\\n   - y\\n\\n3. **Highlight occurrences of 'r':** Now, let's specifically mark each 'r' in the list:\\n   - s\\n   - t\\n   - **r**\\n   - a\\n   - w\\n   - b\\n   - e\\n   - **r**\\n   - **r**\\n   - y\\n\\n4. **Count the 'r's:** There are three letters 'r' in the highlighted list.\\n\\nTherefore, the word 'strawberry' contains 3 letters 'r'.\\n\\nThe final answer is: There are 3 'r's in the word 'strawberry.'\"},\n",
       " {'prompt': '\\nSolve the following problem step by step. For each step,\\ncarefully explain your reasoning, include all calculations, and state any assumptions you make.\\nEnsure that each step logically leads to the next, and provide a clear and concise final answer at the end.\\nIf relevant, break the problem into smaller parts and address each part individually before combining the results.\\n',\n",
       "  'instruct': '9.11 and 9.9, which one is bigger?',\n",
       "  'response': 'To determine which number is bigger, 9.11 or 9.9, we will compare them step by step. A precise approach involves analyzing each digit as they appear number by number.\\n\\n1. **Identifying the whole number part**:\\n   - For 9.11, the whole number part is 9.\\n   - For 9.9, the whole number part is also 9.\\n\\n   Both numbers have the same whole number part (9), so we need to move to the decimal parts to find out which number is larger.\\n\\n2. **Comparing the decimal part**:\\n   - In 9.11, the decimal part is \"0.11\".\\n   - In 9.9, the decimal part is \"0.9\".\\n\\n   To compare these, align them as two-digit numbers by rewriting them as follows, making them easier to compare:\\n   \\n   - Convert 9.11 as \"9.11\" which means 9 whole and 11 hundredths.\\n   - Convert 9.9 to \"9.90\" which means 9 whole and 90 hundredths.\\n\\n   Now, when comparing the decimal parts directly:\\n   - 0.11 (or 11/100) is less than 0.90 (or 90/100) because 11 is less than 90.\\n\\n3. **Conclusion**:\\n   Since the decimal part of 9.9 is greater than the decimal part of 9.11, 9.9 is the larger number.\\n\\n**Final Answer**: 9.9 is bigger than 9.11.'}]"
      ]
     },
     "execution_count": 6,
     "metadata": {},
     "output_type": "execute_result"
    }
   ],
   "source": [
    "@task\n",
    "def generate_cot_data(prompt: str) -> List[BaseMessage]:\n",
    "    agent = VanillaAgent.default(ZeroShotCoTPrompt)\n",
    "    _ = agent.run(prompt)\n",
    "    return agent.history\n",
    "\n",
    "\n",
    "flow = ThreadPoolScheduler.map(generate_cot_data, problems) >> format_data\n",
    "flow.run()"
   ]
  },
  {
   "cell_type": "markdown",
   "metadata": {},
   "source": [
    "Nice, we just got some data containing steps of thinking, which appearently\n",
    "has better quality compared with our first version.\n",
    "\n",
    "This is not the end, however. Sometimes a single CoT process won't solve the \n",
    "question we gave. To address this, we can use Tree of Thoughts (ToT).\n",
    "\n",
    "## ToT Data Generation\n",
    "\n",
    "ToT data generation will apply the following procedure:\n",
    "\n",
    "1. For each step, the agent will generate multiple answers.\n",
    "2. Another agent will search through the tree by BFS or DFS to check if there\n",
    "   exists a path where the problem has been solved successfully.\n",
    "   \n",
    "ToT will usually improve the success rate of problem solving, and also improve\n",
    "the quality of the data generated. Unfortunately, since ToT applies a new \n",
    "approach of data generation, it won't be as that easy as CoT, which can be \n",
    "simply done by altering the prompt. But no worries! We got your back. \n",
    "\n",
    "We offer a `ToTAgent` in Synthora, which encapsulates all the dirty works for\n",
    "users. In `ToTAgent`, the tree will be searched with DFS, and we only need to \n",
    "make some configurations like `level_size` or `max_turns` here."
   ]
  },
  {
   "cell_type": "code",
   "execution_count": 7,
   "metadata": {},
   "outputs": [],
   "source": [
    "@task\n",
    "def generate_tot_data(prompt: str) -> List[BaseMessage]:\n",
    "    agent = ToTAgent.default(level_size=2, max_turns=15)\n",
    "    resp = agent.run(prompt)\n",
    "    if resp.is_err:\n",
    "        # the problem is not solved successfully\n",
    "        return []\n",
    "    return agent.history"
   ]
  },
  {
   "cell_type": "markdown",
   "metadata": {},
   "source": [
    "Then we can create a even harder question for the agent to solve."
   ]
  },
  {
   "cell_type": "code",
   "execution_count": 9,
   "metadata": {},
   "outputs": [
    {
     "name": "stdout",
     "output_type": "stream",
     "text": [
      "Consider a regular octagon. How many different triangles can be formed if the octagon is placed inside a circle and we can also use the center of the circle as a vertex for the triangles? Let's think step by step.\n",
      "To solve this problem, we need to count the number of distinct triangles that can be formed using the vertices of a regular octagon and the center of the circle that circumscribes the octagon. We'll consider each possible case step-by-step, ensuring that we count all possible triangles with clarity.\n",
      "\n",
      "**Step 1: Understand the structure of the octagon within the circle.**\n",
      "\n",
      "Think: A regular octagon has 8 vertices, and these vertices lie on the circumference of a circle. Additionally, we have the center of the circle, which can be used as an extra vertex. Therefore, we have a total of 9 points (8 on the circle + 1 center) we can use to form triangles.\n",
      "\n",
      "**Action: List the points.**\n",
      "\n",
      "Output: The points we have are \\( A_1, A_2, A_3, \\ldots, A_8 \\) (the vertices of the octagon) and \\( C \\) (the center of the circle), giving us points: \\( A_1, A_2, A_3, \\ldots, A_8, C \\).\n",
      "\n",
      "Next, let's determine the number of triangles considering these points.\n",
      "**Step 2: Consider triangles formed entirely by the octagon's vertices.**\n",
      "\n",
      "Think: First, we should count the triangles formed using only the vertices of the octagon, ignoring the center of the circle for now. Since a triangle needs three vertices and we've got eight vertices from the octagon, we can choose any 3 vertices from these 8 to form a triangle. \n",
      "\n",
      "The number of ways to choose 3 vertices from 8 is calculated by the combination formula \\(\\binom{n}{r}\\), where \\(n\\) is the total number of items, and \\(r\\) is the number of items to choose.\n",
      "\n",
      "**Action: Calculate the number of combinations of 8 vertices taken 3 at a time.**\n",
      "\n",
      "Output: The number of triangles formed by the octagon's vertices alone is \\(\\binom{8}{3} = 56\\).\n",
      "\n",
      "Now, let's move on to considering the inclusion of the center of the circle as a vertex in forming triangles.\n",
      "**Step 3: Consider triangles that include the center of the circle as one vertex.**\n",
      "\n",
      "Think: Since we want to form triangles that include the center of the circle (\\(C\\)) as one of the vertices, we need to combine \\(C\\) with any two vertices of the octagon to form a triangle. Each such triangle will have \\(C\\) and two vertices from the set of octagon's vertices.\n",
      "\n",
      "With \\(8\\) vertices available, we can choose \\(2\\) at a time to pair with \\(C\\).\n",
      "\n",
      "**Action: Calculate the number of triangles that can be formed by choosing 2 out of the 8 vertices along with the center \\(C\\).**\n",
      "\n",
      "Output: The number of triangles formed with the center and two vertices of the octagon is \\(\\binom{8}{2} = 28\\).\n",
      "\n",
      "Now we have computed triangles that include the center. We must verify that all these triangles are unique compared to those formed by the octagon's vertices alone.\n",
      "**Step 4: Combine the results and verify uniqueness.**\n",
      "\n",
      "Think: We have two sets of triangles: \n",
      "- Triangles that use only the octagon's vertices: 56 triangles.\n",
      "- Triangles that utilize the center and two octagon vertices: 28 triangles.\n",
      "\n",
      "Since each triangle in the second set inherently includes the center \\(C\\) and is not formed by the vertices on the edge of the octagon alone, there is no overlap between these two sets of triangles. Thus, there’s no need to examine further if these triangles coincide with those consisting solely of octagon vertices.\n",
      "\n",
      "**Action: Calculate the total number of distinct triangles.**\n",
      "\n",
      "Output: The total number of distinct triangles is \\(56 + 28 = 84\\).\n",
      "\n",
      "Thus, the total number of different triangles that can be formed, considering both the octagon’s vertices and the center of the circle, is 84. Let's proceed to verify this solution.\n"
     ]
    }
   ],
   "source": [
    "hard_question = (\n",
    "    \"Consider a regular octagon. How many different triangles can be formed \"\n",
    "    \"if the octagon is placed inside a circle and we can also use the center \"\n",
    "    \"of the circle as a vertex for the triangles? Let's think step by step.\"\n",
    ")\n",
    "flow = ThreadPoolScheduler.map(generate_tot_data, problems + [hard_question])\n",
    "results = flow.run()\n",
    "\n",
    "# Get the data for the last question\n",
    "for res in results[-1][1:]:\n",
    "    print(res.content)"
   ]
  },
  {
   "cell_type": "markdown",
   "metadata": {},
   "source": [
    "We can see that the hard problem has been solved successfully. We can also\n",
    "check the data generated for the question comparing 9.11 and 9.9, just for\n",
    "comparison with previous approaches like CoT."
   ]
  },
  {
   "cell_type": "code",
   "execution_count": 10,
   "metadata": {},
   "outputs": [
    {
     "name": "stdout",
     "output_type": "stream",
     "text": [
      "9.11 and 9.9, which one is bigger?\n",
      "To solve the problem of determining which number is bigger between 9.11 and 9.9, we need to compare these two decimal numbers.\n",
      "\n",
      "**Think**: The first step in comparing two decimal numbers is to start from the leftmost digit and compare them one by one. If the digits in the same decimal place are equal, we move to the next digit to the right. If one is greater than the other, then that number is larger.\n",
      "\n",
      "Let's start by comparing the numbers 9.11 and 9.9.\n",
      "\n",
      "**Output**: \n",
      "\n",
      "- In the integer part (before the decimal point), both numbers have the digit '9'.\n",
      "- Next, compare the tenths place, which is the first digit after the decimal point: both numbers have the digit '9'. So, they are equal up to this point.\n",
      "- Now, look at the hundredths place: 9.11 has '1' and 9.9 can be seen as '9.90', so it has '0'.\n",
      "\n",
      "Since 1 (from 9.11) is greater than 0 (from 9.9 or 9.90), the number 9.11 is larger than 9.9.\n",
      "\n",
      "Let’s proceed with comparing the hundredths place and draw the conclusion.\n"
     ]
    }
   ],
   "source": [
    "for res in results[1][1:]:\n",
    "    print(res.content)"
   ]
  },
  {
   "cell_type": "markdown",
   "metadata": {},
   "source": [
    "## Another Example: Scoring Generated Data\n",
    "\n",
    "Now, I believe you already have a brief sense on how to use Synthora to\n",
    "generate simple, CoT and ToT data. At the end of this tutorial, we gonna walk\n",
    "through another case, where we will generate multiple entries of data on the\n",
    "same problem and let one agent to score each of them.\n",
    "\n",
    "First we can define a function used to score two entries of generated data:"
   ]
  },
  {
   "cell_type": "code",
   "execution_count": 11,
   "metadata": {},
   "outputs": [],
   "source": [
    "def score_response(\n",
    "    history1: List[BaseMessage], history2: List[BaseMessage], prompt: str\n",
    ") -> Dict[str, Any]:\n",
    "    response_format = get_pydantic_model('{\"score1\": 0.0, \"score2\": 0.0}')\n",
    "\n",
    "    system_prompt = textwrap.dedent(\n",
    "        f\"\"\"\\\n",
    "        You are a judge to score responses to the following question, scaling from 0 to 10.\n",
    "\n",
    "        {prompt}\n",
    "        \"\"\"  # noqa: E501\n",
    "    )\n",
    "    agent = VanillaAgent.default(system_prompt)\n",
    "    agent.model.config[\"response_format\"] = response_format\n",
    "\n",
    "    # Skip the system message in history\n",
    "    openai_history1 = [msg.to_openai_message() for msg in history1[1:]]\n",
    "    openai_history2 = [msg.to_openai_message() for msg in history2[1:]]\n",
    "\n",
    "    _history1 = \"\\n\".join(\n",
    "        [f\"{msg['role']}: {msg['content']}\" for msg in openai_history1]\n",
    "    )\n",
    "    _history2 = \"\\n\".join(\n",
    "        [f\"{msg['role']}: {msg['content']}\" for msg in openai_history2]\n",
    "    )\n",
    "\n",
    "    agent.history.append(user(f\"Response 1:\\n{_history1}\"))\n",
    "    agent.history.append(user(f\"Response 2:\\n{_history2}\"))\n",
    "    resp = agent.run(\"Please score the two responses.\").unwrap().parsed\n",
    "    result = {\n",
    "        \"chosen\": openai_history1\n",
    "        if resp.score1 > resp.score2\n",
    "        else openai_history2,\n",
    "        \"rejected\": openai_history2\n",
    "        if resp.score1 > resp.score2\n",
    "        else openai_history1,\n",
    "        \"score_chosen\": resp.score1\n",
    "        if resp.score1 > resp.score2\n",
    "        else resp.score2,\n",
    "        \"score_rejected\": resp.score2\n",
    "        if resp.score1 > resp.score2\n",
    "        else resp.score1,\n",
    "    }\n",
    "    return result"
   ]
  },
  {
   "cell_type": "markdown",
   "metadata": {},
   "source": [
    "Then we can define a function of generating two entries of data with the \n",
    "workflow like below, where two tasks (agents) will run concurrently trying to\n",
    "solve the same problem."
   ]
  },
  {
   "cell_type": "code",
   "execution_count": 12,
   "metadata": {},
   "outputs": [],
   "source": [
    "def generate_data(system1: str, system2: str, prompt: str) -> Dict[str, Any]:\n",
    "    agent1, agent2 = (\n",
    "        VanillaAgent.default(system1),\n",
    "        VanillaAgent.default(system2),\n",
    "    )\n",
    "    flow = (BaseTask(agent1.run) | BaseTask(agent2.run)).s(prompt)\n",
    "    _ = flow.run()\n",
    "    return score_response(agent1.history, agent2.history, prompt)"
   ]
  },
  {
   "cell_type": "markdown",
   "metadata": {},
   "source": [
    "For each problem, we can have a system message for it. For the consideration \n",
    "of convenience, we will use the same simple message for each problem."
   ]
  },
  {
   "cell_type": "code",
   "execution_count": 13,
   "metadata": {},
   "outputs": [],
   "source": [
    "system_message = \"You are an AI Assistant.\"\n",
    "system1 = [system_message for _ in problems]\n",
    "system2 = [system_message for _ in problems]"
   ]
  },
  {
   "cell_type": "markdown",
   "metadata": {},
   "source": [
    "Then we can run all the problems concurrently with `ProcessPoolScheduler`, \n",
    "which can run tasks with multi-process approach.\n",
    "\n",
    "> Here we have two nested parallelism, which is supported by nested workflow:\n",
    "> \n",
    "> 1. The outmost workflow works with multi-process, where each problem takes\n",
    ">   up a process to be solved.\n",
    "> 2. Inside each process, there will also be a workflow, where two agents are\n",
    ">   trying to solve the same problem concurrently with multi-thread."
   ]
  },
  {
   "cell_type": "code",
   "execution_count": 14,
   "metadata": {},
   "outputs": [],
   "source": [
    "flow = ProcessPoolScheduler.starmap(\n",
    "    BaseTask(generate_data), zip(system1, system2, problems)\n",
    ")\n",
    "results = flow.run()"
   ]
  },
  {
   "cell_type": "markdown",
   "metadata": {},
   "source": [
    "Then we can print the result to see the accepted and rejected data to each\n",
    "problem, according to the score:"
   ]
  },
  {
   "cell_type": "code",
   "execution_count": 15,
   "metadata": {},
   "outputs": [
    {
     "name": "stdout",
     "output_type": "stream",
     "text": [
      "{'chosen': [{'content': \"How many letters 'r' in the word 'strawberry'?\", 'role': 'user', 'name': 'user'}, {'content': 'The word \"strawberry\" contains three instances of the letter \\'r\\'.', 'role': 'assistant', 'name': 'gpt-4o'}], 'rejected': [{'content': \"How many letters 'r' in the word 'strawberry'?\", 'role': 'user', 'name': 'user'}, {'content': 'The word \"strawberry\" contains two letters \\'r\\'.', 'role': 'assistant', 'name': 'gpt-4o'}], 'score_chosen': 10.0, 'score_rejected': 1.0}\n",
      "{'chosen': [{'content': '9.11 and 9.9, which one is bigger?', 'role': 'user', 'name': 'user'}, {'content': '9.11 is greater than 9.9. When comparing decimal numbers, you start from the left and compare each digit. Both numbers have 9 as the whole number, so you move to the tenths place. Here, both have 9, but in the hundredths place, 11 comes after the 9, making 9.11 larger than 9.9.', 'role': 'assistant', 'name': 'gpt-4o'}], 'rejected': [{'content': '9.11 and 9.9, which one is bigger?', 'role': 'user', 'name': 'user'}, {'content': 'The number 9.11 is bigger than 9.9. When comparing decimal numbers, start by comparing the digits from left to right. Both numbers have 9 as the whole number part, but 9.11 has 11 in the decimal part, whereas 9.9 has 9 in the decimal part (which is equivalent to 9.90 if you extend the decimal). Therefore, 9.11 is greater than 9.9.', 'role': 'assistant', 'name': 'gpt-4o'}], 'score_chosen': 10.0, 'score_rejected': 0.0}\n"
     ]
    }
   ],
   "source": [
    "for result in results:\n",
    "    print(result)"
   ]
  },
  {
   "cell_type": "markdown",
   "metadata": {},
   "source": [
    "## Highlights\n",
    "\n",
    "In this tutorial, we walked through the generation of simple SFT data, CoT\n",
    "data, and ToT data, with the support of workflow in Synthora. At last, we\n",
    "introduced an example, where we can generate multiple entries of data \n",
    "concurrently, taking leverage of the support of nested workflow.\n",
    " \n",
    "\n",
    "## About Synthora\n",
    "\n",
    "Synthora is a lightweight and extensible framework for LLM-driven Agents and \n",
    "ALM research. It provides essential components to build, test and evaluate \n",
    "agents. At its core, Synthora aims to assemble an agent with a single config, \n",
    "thus minimizing your effort in building, tuning, and sharing agents.\n",
    "\n",
    "If you find this tutorial interesting, feel free to visit our\n",
    "[GitHub Repo](https://github.com/syntropix-ai/synthora) and leave a star🌟!\n",
    "Any feedback from you will mean a lot to us."
   ]
  }
 ],
 "metadata": {
  "kernelspec": {
   "display_name": ".venv",
   "language": "python",
   "name": "python3"
  },
  "language_info": {
   "codemirror_mode": {
    "name": "ipython",
    "version": 3
   },
   "file_extension": ".py",
   "mimetype": "text/x-python",
   "name": "python",
   "nbconvert_exporter": "python",
   "pygments_lexer": "ipython3",
   "version": "3.13.1"
  }
 },
 "nbformat": 4,
 "nbformat_minor": 2
}
