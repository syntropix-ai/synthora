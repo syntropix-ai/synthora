{
 "cells": [
  {
   "cell_type": "code",
   "execution_count": 12,
   "metadata": {},
   "outputs": [],
   "source": [
    "from typing import Dict, List\n",
    "import os\n",
    "from synthora.agents import VanillaAgent\n",
    "from synthora.messages.base import BaseMessage\n",
    "from synthora.workflows import task\n",
    "from synthora.agents.tot_agent import ToTAgent\n",
    "from synthora.workflows.scheduler.thread_pool import ThreadPoolScheduler\n",
    "from getpass import getpass\n",
    "from synthora.prompts.buildin import ZeroShotCoTPrompt\n",
    "from typing import Any\n",
    "from synthora.messages import user\n",
    "from synthora.utils.pydantic_model import get_pydantic_model\n",
    "from synthora.workflows.base_task import BaseTask\n",
    "from synthora.workflows.scheduler.process_pool import ProcessPoolScheduler"
   ]
  },
  {
   "cell_type": "code",
   "execution_count": 2,
   "metadata": {},
   "outputs": [],
   "source": [
    "openai_api_key = getpass(\"Enter your API key: \")\n",
    "os.environ[\"OPENAI_API_KEY\"] = openai_api_key"
   ]
  },
  {
   "cell_type": "code",
   "execution_count": 3,
   "metadata": {},
   "outputs": [],
   "source": [
    "data = [\n",
    "    \"How many letters 'r' in the word 'strawberry'?\",\n",
    "    \"9.11 and 9.9, which one is bigger?\",\n",
    "]"
   ]
  },
  {
   "cell_type": "markdown",
   "metadata": {},
   "source": [
    "我们从最简单开始"
   ]
  },
  {
   "cell_type": "code",
   "execution_count": 6,
   "metadata": {},
   "outputs": [],
   "source": [
    "@task\n",
    "def generate_data(prompt: str) -> List[BaseMessage]:\n",
    "    agent = VanillaAgent.default()\n",
    "    _ = agent.run(prompt)\n",
    "    return agent.history"
   ]
  },
  {
   "cell_type": "code",
   "execution_count": 7,
   "metadata": {},
   "outputs": [],
   "source": [
    "@task\n",
    "def convert(*resps: List[BaseMessage]) -> List[Dict[str, str]]:\n",
    "    return [\n",
    "        {\n",
    "            \"prompt\": str(resp[0].content),\n",
    "            \"instruct\": str(resp[1].content),\n",
    "            \"response\": str(resp[2].content),\n",
    "        }\n",
    "        for resp in resps\n",
    "    ]"
   ]
  },
  {
   "cell_type": "code",
   "execution_count": 9,
   "metadata": {},
   "outputs": [
    {
     "data": {
      "text/plain": [
       "[{'prompt': '\\nYou are an AI assistant.\\n',\n",
       "  'instruct': \"How many letters 'r' in the word 'strawberry'?\",\n",
       "  'response': 'The word \"strawberry\" contains 3 letters \\'r\\'.'},\n",
       " {'prompt': '\\nYou are an AI assistant.\\n',\n",
       "  'instruct': '9.11 and 9.9, which one is bigger?',\n",
       "  'response': 'The number 9.11 is bigger than 9.9. When comparing decimal numbers, you look at the digits from left to right. Both numbers have the same whole number part (9), so you compare the decimal parts: .11 and .9. Since .11 (equivalent to .110) is greater than .9 (equivalent to .900), 9.11 is greater than 9.9.'}]"
      ]
     },
     "execution_count": 9,
     "metadata": {},
     "output_type": "execute_result"
    }
   ],
   "source": [
    "flow = ThreadPoolScheduler.map(generate_data, data) >> convert\n",
    "flow.run()"
   ]
  },
  {
   "cell_type": "markdown",
   "metadata": {},
   "source": [
    "通过调整agent类型，你可以获得更准确的输出"
   ]
  },
  {
   "cell_type": "code",
   "execution_count": 11,
   "metadata": {},
   "outputs": [],
   "source": [
    "@task\n",
    "def generate_data_using_cot(prompt: str) -> List[BaseMessage]:\n",
    "    agent = VanillaAgent.default(ZeroShotCoTPrompt)\n",
    "    _ = agent.run(prompt)\n",
    "    return agent.history"
   ]
  },
  {
   "cell_type": "code",
   "execution_count": 12,
   "metadata": {},
   "outputs": [
    {
     "data": {
      "text/plain": [
       "[{'prompt': '\\nSolve the following problem step by step. For each step,\\ncarefully explain your reasoning, include all calculations, and state any assumptions you make.\\nEnsure that each step logically leads to the next, and provide a clear and concise final answer at the end.\\nIf relevant, break the problem into smaller parts and address each part individually before combining the results.\\n',\n",
       "  'instruct': \"How many letters 'r' in the word 'strawberry'?\",\n",
       "  'response': \"To find out how many times the letter 'r' appears in the word 'strawberry', we can follow these steps:\\n\\n1. **Break down the word 'strawberry' into individual letters:**\\n   - s, t, r, a, w, b, e, r, r, y\\n\\n2. **Scan through each letter and count occurrences of the letter 'r':**\\n   - The sequence is: s, t, **r**, a, w, b, e, **r**, **r**, y\\n\\n3. **Count each appearance of 'r':**\\n   - The letter 'r' first appears as the 3rd letter.\\n   - The letter 'r' appears again as the 8th letter.\\n   - The letter 'r' appears once more as the 9th letter.\\n\\n4. **Summarize how many times 'r' appears:**\\n   - Counting the occurrences gives us a total of 3 'r's.\\n\\nTherefore, the letter 'r' appears 3 times in the word 'strawberry'.\"},\n",
       " {'prompt': '\\nSolve the following problem step by step. For each step,\\ncarefully explain your reasoning, include all calculations, and state any assumptions you make.\\nEnsure that each step logically leads to the next, and provide a clear and concise final answer at the end.\\nIf relevant, break the problem into smaller parts and address each part individually before combining the results.\\n',\n",
       "  'instruct': '9.11 and 9.9, which one is bigger?',\n",
       "  'response': \"To determine which of the two numbers, 9.11 and 9.9, is bigger, we need to compare them. These numbers are decimal numbers, and comparing them involves looking at each digit starting from the left, moving towards the right.\\n\\n**Step-by-step comparison:**\\n\\n1. **Compare the whole number part:** \\n   - Both numbers have a whole number part of 9. \\n   - Therefore, they are equal in the whole number part.\\n\\n2. **Compare the tenths place:**\\n   - For 9.11, the tenths digit is 1.\\n   - For 9.9, the tenths digit is 9.\\n   - Here, 9 is greater than 1 in the tenths place. Therefore, so far, 9.9 is greater based on the tenths digit.\\n\\n3. **Further Comparison (Unnecessary):**\\n   - Notice that since we have already found a difference in the tenths place, we actually don't need to go further to compare the hundredths place because the tenths are already decisive.\\n   - Technically, for completeness, we could compare the hundredths place by representing 9.9 as 9.90. Then, we have:\\n     - For 9.11, the hundredths digit is 1.\\n     - For 9.90, the hundredths digit is 0.\\n   - Even if this step were to influence, in numbers where the tenths were equal, it still shows 9.90 is greater.\\n\\n**Conclusion:**\\n\\nAfter comparing both numbers, 9.9 is the bigger number because it has a greater tenths place digit compared to 9.11. Decimal comparisons prioritize greater digits earlier in the sequence from the left, which is evident in this example. Hence, 9.9 is the bigger number.\"}]"
      ]
     },
     "execution_count": 12,
     "metadata": {},
     "output_type": "execute_result"
    }
   ],
   "source": [
    "flow = ThreadPoolScheduler.map(generate_data_using_cot, data) >> convert\n",
    "flow.run()"
   ]
  },
  {
   "cell_type": "markdown",
   "metadata": {},
   "source": [
    "通过使用ToT Agent，你可以生成更详尽的数据"
   ]
  },
  {
   "cell_type": "code",
   "execution_count": 23,
   "metadata": {},
   "outputs": [],
   "source": [
    "@task\n",
    "def generate_data_using_tot(prompt: str) -> List[BaseMessage]:\n",
    "    agent = ToTAgent.default(level_size=2, max_turns=15)\n",
    "    resp = agent.run(prompt)\n",
    "    if resp.is_err:\n",
    "        return []\n",
    "    return agent.history"
   ]
  },
  {
   "cell_type": "code",
   "execution_count": 24,
   "metadata": {},
   "outputs": [
    {
     "name": "stdout",
     "output_type": "stream",
     "text": [
      "Consider a regular octagon. How many different triangles can be formed if the octagon is placed inside a circle and we can also use the center of the circle as a vertex for the triangles? Let's think step by step.\n",
      "To solve this problem, we need to consider the structure of a regular octagon and how the additional point, the circle's center, can serve as a vertex for forming triangles. \n",
      "\n",
      "### Step 1: Understanding the Structure\n",
      "1. **Regular Octagon**: A regular octagon has 8 vertices.\n",
      "2. **Center of the Circle**: The center of the circle can be an additional vertex for forming triangles.\n",
      "\n",
      "### Current Problem:\n",
      "We need to find out how many different triangles can be formed using any of these 9 points (8 vertices of the octagon plus the center of the circle) as vertices for the triangles.\n",
      "\n",
      "### Step 2: Determine Possible Combinations\n",
      "To find the number of triangles, we will:\n",
      "   - Consider all combinations of 3 points from these 9 points.\n",
      "   - Calculate how many of these combinations form non-degenerate triangles (i.e., triangles with non-zero area).\n",
      "\n",
      "With this approach, let's first count how many possible combinations of 3 points there are from the 9 points.\n",
      "\n",
      "**Think**: Use the combination formula for choosing 3 points out of 9.\n",
      "\n",
      "- The combination formula is given by \\( \\binom{n}{r} = \\frac{n!}{r!(n-r)!} \\).\n",
      "- Calculate \\( \\binom{9}{3} \\).\n",
      "\n",
      "Let's proceed with calculating \\( \\binom{9}{3} \\).\n",
      "To calculate the number of ways to choose 3 points from the 9 available points (the 8 vertices of the octagon plus the center of the circle), we use the combination formula: \n",
      "\n",
      "\\[\n",
      "\\binom{9}{3} = \\frac{9!}{3! \\times (9-3)!} = \\frac{9 \\times 8 \\times 7}{3 \\times 2 \\times 1} = 84\n",
      "\\]\n",
      "\n",
      "**Output**: There are 84 ways to choose any 3 points from the 9 available points.\n",
      "\n",
      "Now, let's verify if all of these combinations indeed form triangles. For this, it is crucial to identify if any of these combinations result in degenerate triangles (collinear points) that should be discounted. \n",
      "\n",
      "Let's analyze these combinations next.\n",
      "### Step 3: Verify Non-Degenerate Triangle Combinations\n",
      "\n",
      "In the context of our problem, we need to determine if any of these 84 combinations result in degenerate triangles. There are a few specific cases to consider:\n",
      "\n",
      "1. **Degenerate Case**: If the triangle has three collinear points, it would have zero area.\n",
      "2. **Collinear Points Consideration**:\n",
      "   - **All 3 Vertices on the Octagon**: Any combination of 3 out of the 8 vertices of the octagon will not be collinear since a regular octagon is a convex polygon and any combination of 3 vertices forms a triangle.\n",
      "   - **2 Vertices on the Octagon and the Center**: Since the center is not on any edge of the octagon, any two vertices of the octagon with the center will form a non-degenerate triangle.\n",
      "\n",
      "Given these considerations, all combinations of 3 points among the 9 available (8 vertices and 1 center) will form non-degenerate triangles.\n",
      "\n",
      "**Output**: All 84 combinations form valid triangles, with no degenerate cases. \n",
      "\n",
      "Let's summarize the result.\n",
      "### Final Step: Conclusion\n",
      "\n",
      "After evaluating the possible ways to form triangles using the 8 vertices of the octagon and the center of the circle, we conclude that:\n",
      "\n",
      "- There are 84 ways to choose any 3 points from these 9 points.\n",
      "- All of these combinations result in valid, non-degenerate triangles due to the nature of a regular octagon and the central point.\n",
      "\n",
      "**Verification**: Since we ensured that none of the combinations results in collinear points when choosing from the available vertices, the entire set of combinations results in valid triangles.\n",
      "\n",
      "Therefore, the total number of different triangles that can be formed is \\( \\boxed{84} \\).\n"
     ]
    }
   ],
   "source": [
    "hard_question = \"Consider a regular octagon. How many different triangles can be formed if the octagon is placed inside a circle and we can also use the center of the circle as a vertex for the triangles? Let's think step by step.\"\n",
    "flow = ThreadPoolScheduler.map(generate_data_using_tot, data + [hard_question])\n",
    "results = flow.run()\n",
    "\n",
    "for res in results[-1][1:]:\n",
    "    print(res.content)"
   ]
  },
  {
   "cell_type": "code",
   "execution_count": 25,
   "metadata": {},
   "outputs": [
    {
     "name": "stdout",
     "output_type": "stream",
     "text": [
      "9.11 and 9.9, which one is bigger?\n",
      "To determine which number is bigger between 9.11 and 9.9, we need to compare these two decimal numbers. \n",
      "\n",
      "**Think**: When comparing decimal numbers, we start by comparing the whole numbers. If the whole numbers are equal, we then compare the digits after the decimal point from left to right till we find a difference.\n",
      "\n",
      "**Output**: Let's start by comparing the whole number parts of 9.11 and 9.9. Both numbers have the whole number part of 9, which means they are equal at this stage. \n",
      "\n",
      "Next, we'll compare the digits following the decimal point. We now proceed with these decimal comparisons.\n",
      "**Think**: With both numbers having the whole number part equal at 9, we move to the decimal part: \n",
      "\n",
      "- For 9.11, the first digit after the decimal is 1.\n",
      "- For 9.9, the first digit after the decimal is 9.\n",
      "\n",
      "Understand that 9.9 can be represented as 9.90 to match the number of decimal places in 9.11 for easy comparison.\n",
      "\n",
      "We compare:\n",
      "- 11 for 9.11\n",
      "- 90 for 9.90\n",
      "\n",
      "The next step is to compare these parts: 11 and 90.\n",
      "\n",
      "**Output**: Since 90 is greater than 11, this tells us that 9.9 (equivalent to 9.90) is greater than 9.11.\n",
      "\n",
      "9.9 is the larger number.\n"
     ]
    }
   ],
   "source": [
    "for res in results[1][1:]:\n",
    "    print(res.content)"
   ]
  },
  {
   "cell_type": "markdown",
   "metadata": {},
   "source": [
    "更复杂的生成"
   ]
  },
  {
   "cell_type": "markdown",
   "metadata": {},
   "source": [
    "如何打分"
   ]
  },
  {
   "cell_type": "code",
   "execution_count": 9,
   "metadata": {},
   "outputs": [],
   "source": [
    "response_format = get_pydantic_model('{\"score1\": 0.0, \"score2\": 0.0}')\n",
    "\n",
    "\n",
    "def score_response(\n",
    "    history1: List[BaseMessage], history2: List[BaseMessage], prompt: str\n",
    ") -> Dict[str, Any]:\n",
    "    agent = VanillaAgent.default(\n",
    "        f\"You are a judger to score theses two responses. Please use score \"\n",
    "        f\"from 0 to 10. The question is: {prompt}\",\n",
    "    )\n",
    "    agent.model.config[\"response_format\"] = response_format\n",
    "    openai_history1 = [msg.to_openai_message() for msg in history1[1:]]\n",
    "    openai_history2 = [msg.to_openai_message() for msg in history2[1:]]\n",
    "    _history1 = \"\\n\".join(\n",
    "        [f\"{msg['role']}: {msg['content']}\" for msg in openai_history1]\n",
    "    )\n",
    "    _history2 = \"\\n\".join(\n",
    "        [f\"{msg['role']}: {msg['content']}\" for msg in openai_history2]\n",
    "    )\n",
    "\n",
    "    agent.history.append(user(f\"Response 1:\\n{_history1}\"))\n",
    "    agent.history.append(user(f\"Response 2:\\n{_history2}\"))\n",
    "    resp = agent.run(\"Please score the two responses.\").unwrap().parsed\n",
    "    result = {\n",
    "        \"chosen\": openai_history1 if resp.score1 > resp.score2 else openai_history2,\n",
    "        \"rejected\": openai_history2 if resp.score1 > resp.score2 else openai_history1,\n",
    "        \"score_chosen\": resp.score1 if resp.score1 > resp.score2 else resp.score2,\n",
    "        \"score_rejected\": resp.score2 if resp.score1 > resp.score2 else resp.score1,\n",
    "    }\n",
    "    return result"
   ]
  },
  {
   "cell_type": "markdown",
   "metadata": {},
   "source": [
    "如何生成"
   ]
  },
  {
   "cell_type": "code",
   "execution_count": 10,
   "metadata": {},
   "outputs": [],
   "source": [
    "def generate_data(system1: str, system2: str, prompt: str) -> Dict[str, Any]:\n",
    "    agent1, agent2 = (\n",
    "        VanillaAgent.default(system1),\n",
    "        VanillaAgent.default(system2),\n",
    "    )\n",
    "    flow = (BaseTask(agent1.run) | BaseTask(agent2.run)).s(prompt)\n",
    "    _ = flow.run()\n",
    "    return score_response(agent1.history, agent2.history, prompt)"
   ]
  },
  {
   "cell_type": "markdown",
   "metadata": {},
   "source": [
    "使用不同的prompt生成，但这里为了简单我是用相同的systemmessage"
   ]
  },
  {
   "cell_type": "code",
   "execution_count": 11,
   "metadata": {},
   "outputs": [],
   "source": [
    "system_message = \"You are an AI Assistant.\"\n",
    "system1 = [system_message for _ in range(len(data))]\n",
    "system2 = [system_message for _ in range(len(data))]"
   ]
  },
  {
   "cell_type": "markdown",
   "metadata": {},
   "source": [
    "这里我们使用多进程提高生成速度"
   ]
  },
  {
   "cell_type": "code",
   "execution_count": 13,
   "metadata": {},
   "outputs": [],
   "source": [
    "\n",
    "flow = ProcessPoolScheduler.starmap(\n",
    "        BaseTask(generate_data), zip(system1, system2, data)\n",
    "    )\n",
    "results = flow.run()"
   ]
  },
  {
   "cell_type": "code",
   "execution_count": 14,
   "metadata": {},
   "outputs": [
    {
     "name": "stdout",
     "output_type": "stream",
     "text": [
      "{'chosen': [{'content': \"How many letters 'r' in the word 'strawberry'?\", 'role': 'user', 'name': 'user'}, {'content': \"The word 'strawberry' contains three letters 'r'.\", 'role': 'assistant', 'name': 'gpt-4o'}], 'rejected': [{'content': \"How many letters 'r' in the word 'strawberry'?\", 'role': 'user', 'name': 'user'}, {'content': 'The word \"strawberry\" contains two letters \\'r\\'.', 'role': 'assistant', 'name': 'gpt-4o'}], 'score_chosen': 10.0, 'score_rejected': 6.0}\n",
      "{'chosen': [{'content': '9.11 and 9.9, which one is bigger?', 'role': 'user', 'name': 'user'}, {'content': '9.11 is larger than 9.9. This is because 9.9 is equivalent to 9.90, and when comparing the numbers 9.11 and 9.90, the first decimal place is the same (9), but the second decimal place shows that 11 is greater than 9.', 'role': 'assistant', 'name': 'gpt-4o'}], 'rejected': [{'content': '9.11 and 9.9, which one is bigger?', 'role': 'user', 'name': 'user'}, {'content': 'The number 9.11 is bigger than 9.9. To compare the two numbers, consider their decimal places: 9.11 has two decimal places and is equivalent to 9.110, while 9.9 is equivalent to 9.90. Since 110 is greater than 90, 9.11 is greater than 9.9.', 'role': 'assistant', 'name': 'gpt-4o'}], 'score_chosen': 10.0, 'score_rejected': 0.0}\n"
     ]
    }
   ],
   "source": [
    "for result in results:\n",
    "    print(result)"
   ]
  },
  {
   "cell_type": "code",
   "execution_count": null,
   "metadata": {},
   "outputs": [],
   "source": []
  }
 ],
 "metadata": {
  "kernelspec": {
   "display_name": ".venv",
   "language": "python",
   "name": "python3"
  },
  "language_info": {
   "codemirror_mode": {
    "name": "ipython",
    "version": 3
   },
   "file_extension": ".py",
   "mimetype": "text/x-python",
   "name": "python",
   "nbconvert_exporter": "python",
   "pygments_lexer": "ipython3",
   "version": "3.13.1"
  }
 },
 "nbformat": 4,
 "nbformat_minor": 2
}
