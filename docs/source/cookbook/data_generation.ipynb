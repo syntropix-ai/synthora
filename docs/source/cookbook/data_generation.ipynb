{
 "cells": [
  {
   "cell_type": "markdown",
   "metadata": {},
   "source": [
    "# Data Generation Through Workflow in Synthora\n",
    "\n",
    "Workflow is a powerful system in Synthora that can be used to orchestrate \n",
    "agents on solving various problems, allowing users to define their own workflow\n",
    "with a high level of flexibility.\n",
    "\n",
    "In this tutorial, we will show you how to use workflow to generate data. We\n",
    "will start from the simplest SFT data generation and gradually increase the\n",
    "complexity to COT and ToT data generation. Thanks to the flexibility of\n",
    "workflow, the overall process is simple and can be easily customized.\n",
    "\n",
    "Now, if you are ready, let's start!"
   ]
  },
  {
   "cell_type": "markdown",
   "metadata": {},
   "source": [
    "## Prerequisites\n",
    "\n",
    "You are probably excited to start already, but before that, there are some\n",
    "prerequisites you need to prepare. (Sorry!)\n",
    "\n",
    "### Install Synthora\n",
    "\n",
    "Synthora requires Python 3.8+. You can install Synthora via pip:"
   ]
  },
  {
   "cell_type": "code",
   "execution_count": null,
   "metadata": {},
   "outputs": [],
   "source": [
    "%pip install synthora"
   ]
  },
  {
   "cell_type": "markdown",
   "metadata": {},
   "source": [
    "### Import Packages & Set API Key\n",
    "\n",
    "In this tutorial, we will use OpenAI's API to generate data. So we need to\n",
    "import some packages and set OpenAI API key first."
   ]
  },
  {
   "cell_type": "code",
   "execution_count": 1,
   "metadata": {},
   "outputs": [],
   "source": [
    "import os\n",
    "import textwrap\n",
    "from getpass import getpass\n",
    "from typing import Any, Dict, List\n",
    "\n",
    "from synthora.agents import VanillaAgent\n",
    "from synthora.agents.tot_agent import ToTAgent\n",
    "from synthora.messages import user\n",
    "from synthora.messages.base import BaseMessage\n",
    "from synthora.prompts.buildin import ZeroShotCoTPrompt\n",
    "from synthora.utils.pydantic_model import get_pydantic_model\n",
    "from synthora.workflows import task\n",
    "from synthora.workflows.base_task import BaseTask\n",
    "from synthora.workflows.scheduler.process_pool import ProcessPoolScheduler\n",
    "from synthora.workflows.scheduler.thread_pool import ThreadPoolScheduler"
   ]
  },
  {
   "cell_type": "code",
   "execution_count": 2,
   "metadata": {},
   "outputs": [],
   "source": [
    "os.environ[\"OPENAI_API_KEY\"] = getpass(\"Enter your OpenAI API key here: \")"
   ]
  },
  {
   "cell_type": "markdown",
   "metadata": {},
   "source": [
    "### Prompt Preparation\n",
    "\n",
    "For ease of comparison, we will use two same simple questions (but with some \n",
    "pitfalls) to generate data throughout this tutorial. We first create a list to\n",
    "store the prompts."
   ]
  },
  {
   "cell_type": "code",
   "execution_count": 3,
   "metadata": {},
   "outputs": [],
   "source": [
    "questions = [\n",
    "    \"How many letters 'r' in the word 'strawberry'?\",\n",
    "    \"9.11 and 9.9, which one is bigger?\",\n",
    "]"
   ]
  },
  {
   "cell_type": "markdown",
   "metadata": {},
   "source": [
    "## Simple SFT Data Generation\n",
    "\n",
    "Now we can start to get our hands dirty (Finally!). First, we define a task to\n",
    "generate data using a vanilla agent, which is basically the simplest and most\n",
    "basic, classical form of agents.\n",
    "\n",
    "We first define two tasks, one of which is to generate data using a vanilla\n",
    "agent (basically just run a query), and the other is to convert the data to\n",
    "the format we want.\n",
    "\n",
    "> What are tasks in Synthora?\n",
    ">\n",
    "> Tasks are basic units of workload in workflow. They are the smallest units\n",
    "> of work that can be executed independently. In Synthora, tasks are defined\n",
    "> using the `@task` decorator. For more details, please refer to our official\n",
    "> documentation of workflow.\n"
   ]
  },
  {
   "cell_type": "code",
   "execution_count": 4,
   "metadata": {},
   "outputs": [],
   "source": [
    "@task\n",
    "def generate_simple_data(prompt: str) -> List[BaseMessage]:\n",
    "    agent = VanillaAgent.default()\n",
    "    _ = agent.run(prompt)\n",
    "    return agent.history\n",
    "\n",
    "\n",
    "@task\n",
    "def format_data(*resps: List[BaseMessage]) -> List[Dict[str, str]]:\n",
    "    return [\n",
    "        {\n",
    "            \"prompt\": str(resp[0].content),\n",
    "            \"instruct\": str(resp[1].content),\n",
    "            \"response\": str(resp[2].content),\n",
    "        }\n",
    "        for resp in resps\n",
    "    ]"
   ]
  },
  {
   "cell_type": "markdown",
   "metadata": {},
   "source": [
    "Then we can define a workflow to first generate data on each question and\n",
    "format the responses into a readable format like below:"
   ]
  },
  {
   "cell_type": "code",
   "execution_count": 5,
   "metadata": {},
   "outputs": [
    {
     "data": {
      "text/plain": [
       "[{'prompt': '\\nYou are an AI assistant.\\n',\n",
       "  'instruct': \"How many letters 'r' in the word 'strawberry'?\",\n",
       "  'response': 'The word \"strawberry\" contains two letters \\'r\\'.'},\n",
       " {'prompt': '\\nYou are an AI assistant.\\n',\n",
       "  'instruct': '9.11 and 9.9, which one is bigger?',\n",
       "  'response': '9.11 is larger than 9.9. In decimal numbers, you compare the digits from left to right. Both numbers have the same whole number part (9), but when you compare the digits after the decimal point, 11 is greater than 9.'}]"
      ]
     },
     "execution_count": 5,
     "metadata": {},
     "output_type": "execute_result"
    }
   ],
   "source": [
    "flow = ThreadPoolScheduler.map(generate_simple_data, questions) >> format_data\n",
    "flow.run()"
   ]
  },
  {
   "cell_type": "markdown",
   "metadata": {},
   "source": [
    "There we get some simple data that can be used for simple SFT, which is\n",
    "basically just some query and answers without any intermediate steps. The\n",
    "quality of the data, however, could be low and containing mistakes.\n",
    "\n",
    "Now, what if we want to generate more complex data with better quality? It's\n",
    "time for Chain of Thoughts (COT) or Tree of Thoughts (ToT) data to kick in.\n",
    "\n",
    "## CoT Data Generation\n",
    "\n",
    "Well, it's not that hard to generate CoT data actually. The only thing we need\n",
    "to do is to change the prompt to `ZeroShotCoTPrompt`, which is the simplest\n",
    "prompt guiding the agent to output the thinking steps.\n",
    "\n",
    "> We are using `ZeroShotCoTPrompt`, which is a basical CoT prompts with no \n",
    "> examples, for a quick glance here. If you want to generate data with higher \n",
    "> quality (or more at your preference), you can augment it with some examples \n",
    "> of your own."
   ]
  },
  {
   "cell_type": "code",
   "execution_count": 6,
   "metadata": {},
   "outputs": [
    {
     "data": {
      "text/plain": [
       "[{'prompt': '\\nSolve the following problem step by step. For each step,\\ncarefully explain your reasoning, include all calculations, and state any assumptions you make.\\nEnsure that each step logically leads to the next, and provide a clear and concise final answer at the end.\\nIf relevant, break the problem into smaller parts and address each part individually before combining the results.\\n',\n",
       "  'instruct': \"How many letters 'r' in the word 'strawberry'?\",\n",
       "  'response': \"To solve the problem of counting how many times the letter 'r' appears in the word 'strawberry,' we can follow these steps:\\n\\n1. **Write Out the Word**: First, write out the word clearly so we can visualize and directly identify each occurrence of the letter 'r'. The word is 'strawberry'.\\n\\n2. **Identify Each Occurrence of 'r'**: Go through the word letter by letter and count every occurrence of the letter 'r'.\\n\\n   - s\\n   - t\\n   - r (1st occurrence)\\n   - a\\n   - w\\n   - b\\n   - e\\n   - r (2nd occurrence)\\n   - r (3rd occurrence)\\n   - y\\n\\n3. **Count the 'r' Letters**: From our identification step, we saw that 'r' appears three times in the word 'strawberry'. Specifically, the first 'r' is in the 3rd position, the second 'r' is in the 8th position, and the third 'r' is in the 9th position.\\n\\n4. **Conclusion**: By carefully counting each 'r', we have determined that the letter 'r' appears 3 times in the word 'strawberry'.\\n\\nSo, the final answer is that the letter 'r' appears 3 times in 'strawberry'.\"},\n",
       " {'prompt': '\\nSolve the following problem step by step. For each step,\\ncarefully explain your reasoning, include all calculations, and state any assumptions you make.\\nEnsure that each step logically leads to the next, and provide a clear and concise final answer at the end.\\nIf relevant, break the problem into smaller parts and address each part individually before combining the results.\\n',\n",
       "  'instruct': '9.11 and 9.9, which one is bigger?',\n",
       "  'response': \"To determine which of the two numbers, 9.11 and 9.9, is bigger, we need to compare their numerical values. Let's break this down step by step:\\n\\n1. **Identify the numbers:** We are comparing 9.11 and 9.9.\\n\\n2. **Examine the numbers:**\\n   - Both numbers have the digit '9' in the units place.\\n   - In the tenths place, 9.11 has '1', and 9.9 has '9'.\\n\\n3. **Comparison at the tenths place:**\\n   - The tenths digit of 9.11 is 1.\\n   - The tenths digit of 9.9 is 9.\\n   - Because 9 is greater than 1, based just on the tenths place, 9.9 seems larger, but we need to look at the full decimal placement.\\n\\n4. **Moving to the hundredths place:**\\n   - 9.11 has a hundredths digit of '1'.\\n   - 9.9 can be thought of as 9.90 if we want to compare directly with two decimal places; here, the hundredths place is '0'.\\n\\n5. **Comparison at the hundredths place (if necessary):**\\n   - The hundredths digit of 9.11 is 1.\\n   - The hundredths digit of 9.90 is 0.\\n   - Because 1 is greater than 0, 9.11 is larger than 9.9 when considering the hundredths place.\\n\\n6. **Conclusion:** \\n   - When comparing 9.11 and 9.9, the comparison at the hundredths place shows that 9.11 is greater since 0.01 in the hundredths place adds a small amount to 9.11 compared to 9.90. \\n\\nTherefore, 9.11 is bigger than 9.9.\"}]"
      ]
     },
     "execution_count": 6,
     "metadata": {},
     "output_type": "execute_result"
    }
   ],
   "source": [
    "@task\n",
    "def generate_cot_data(prompt: str) -> List[BaseMessage]:\n",
    "    agent = VanillaAgent.default(ZeroShotCoTPrompt)\n",
    "    _ = agent.run(prompt)\n",
    "    return agent.history\n",
    "\n",
    "\n",
    "flow = ThreadPoolScheduler.map(generate_cot_data, questions) >> format_data\n",
    "flow.run()"
   ]
  },
  {
   "cell_type": "markdown",
   "metadata": {},
   "source": [
    "Nice, we just got some data containing steps of thinking, which appearently\n",
    "has better quality compared with our first version.\n",
    "\n",
    "This is not the end, however. Sometimes a single CoT process won't solve the \n",
    "question we gave. To address this, we can use Tree of Thoughts (ToT).\n",
    "\n",
    "## ToT Data Generation\n",
    "\n",
    "ToT data generation will apply the following procedure:\n",
    "\n",
    "1. For each step, the agent will generate multiple answers.\n",
    "2. Another agent will search through the tree by BFS or DFS to check if there\n",
    "   exists a path where the problem has been solved successfully.\n",
    "   \n",
    "ToT will usually improve the success rate of problem solving, and also improve\n",
    "the quality of the data generated. Unfortunately, since ToT applies a new \n",
    "approach of data generation, it won't be as that easy as CoT, which can be \n",
    "simply done by altering the prompt. But no worries! We got your back. \n",
    "\n",
    "We offer a `ToTAgent` in Synthora, which encapsulates all the dirty works for\n",
    "users. In `ToTAgent`, the tree will be searched with DFS, and we only need to \n",
    "make some configurations like `level_size` or `max_turns` here."
   ]
  },
  {
   "cell_type": "code",
   "execution_count": 7,
   "metadata": {},
   "outputs": [],
   "source": [
    "@task\n",
    "def generate_tot_data(prompt: str) -> List[BaseMessage]:\n",
    "    agent = ToTAgent.default(level_size=2, max_turns=15)\n",
    "    resp = agent.run(prompt)\n",
    "    if resp.is_err:\n",
    "        # the problem is not solved successfully\n",
    "        return []\n",
    "    return agent.history"
   ]
  },
  {
   "cell_type": "markdown",
   "metadata": {},
   "source": [
    "Then we can create a even harder question for the agent to solve."
   ]
  },
  {
   "cell_type": "code",
   "execution_count": 8,
   "metadata": {},
   "outputs": [
    {
     "name": "stdout",
     "output_type": "stream",
     "text": [
      "Consider a regular octagon. How many different triangles can be formed if the octagon is placed inside a circle and we can also use the center of the circle as a vertex for the triangles? Let's think step by step.\n",
      "To solve the problem of determining how many different triangles can be formed using a regular octagon and its center, we need to analyze the vertices available for forming triangles step by step.\n",
      "\n",
      "**Step 1: Count the vertices of the octagon and the additional point.**\n",
      "\n",
      "First, let's identify the number of vertices involved. A regular octagon has 8 vertices. When the octagon is inscribed in a circle, we can consider the center of the circle as an additional point. So, in total, we have:\n",
      "\n",
      "- 8 vertices from the octagon\n",
      "- 1 additional vertex, which is the center of the circle\n",
      "\n",
      "Therefore, we have a total of 9 distinct points to work with.\n",
      "\n",
      "**Output:**\n",
      "\n",
      "Total vertices including the octagon and center: 9 points.\n",
      "\n",
      "Next, I'll identify how to select sets of vertices to form triangles with these 9 points.\n",
      "**Step 2: Determine combinations of vertices to form triangles.**\n",
      "\n",
      "To form a triangle, we need to select 3 vertices from the available 9 points. There are two distinct ways triangles can be formed:\n",
      "\n",
      "1. **Triangles using the center of the circle**:\n",
      "   - We choose 1 vertex as the center of the circle.\n",
      "   - Then, we select 2 vertices from the 8 vertices of the octagon to complete the triangle.\n",
      "\n",
      "2. **Triangles without using the center of the circle**:\n",
      "   - We select all 3 vertices from the 8 vertices of the octagon.\n",
      "\n",
      "Let's calculate these separately.\n",
      "\n",
      "**Output:**\n",
      "\n",
      "We need to calculate the number of triangles possible using the center and without the center. Let's first focus on triangles using the center point.\n",
      "**Step 3: Calculate the number of triangles using the center of the circle.**\n",
      "\n",
      "For triangles that include the center of the circle as one of the vertices:\n",
      "\n",
      "- We choose 1 vertex (the center).\n",
      "- We need to choose the remaining 2 vertices from the 8 vertices of the octagon.\n",
      "\n",
      "The number of ways to choose 2 vertices from 8 is given by the combination formula \\(\\binom{n}{k}\\), where \\(n\\) is the total number of options, and \\(k\\) is the number of choices we need to make.\n",
      "\n",
      "The number of combinations is:\n",
      "\n",
      "\\[\n",
      "\\binom{8}{2}\n",
      "\\]\n",
      "\n",
      "**Output:**\n",
      "\n",
      "Calculate \\(\\binom{8}{2}\\) to determine the number of triangles that include the center and two vertices from the octagon.\n",
      "**Step 4: Calculate the combination \\(\\binom{8}{2}\\).**\n",
      "\n",
      "To find \\(\\binom{8}{2}\\), we use the formula for combinations:\n",
      "\n",
      "\\[\n",
      "\\binom{n}{k} = \\frac{n!}{k!(n-k)!}\n",
      "\\]\n",
      "\n",
      "Substituting the values \\(n = 8\\) and \\(k = 2\\):\n",
      "\n",
      "\\[\n",
      "\\binom{8}{2} = \\frac{8 \\times 7}{2 \\times 1} = 28\n",
      "\\]\n",
      "\n",
      "**Output:**\n",
      "\n",
      "There are 28 triangles that can be formed using the center of the circle and two vertices of the octagon.\n",
      "\n",
      "Next, we'll calculate the number of triangles that do not include the center.\n",
      "**Step 5: Calculate the number of triangles without using the center.**\n",
      "\n",
      "For triangles that do not include the center of the circle:\n",
      "\n",
      "- All 3 vertices must be chosen from the 8 vertices of the octagon.\n",
      "\n",
      "The number of ways to choose 3 vertices from 8 is given by:\n",
      "\n",
      "\\[\n",
      "\\binom{8}{3}\n",
      "\\]\n",
      "\n",
      "**Output:**\n",
      "\n",
      "Calculate \\(\\binom{8}{3}\\) to determine the number of triangles that can be formed using only the vertices of the octagon.\n",
      "**Step 6: Calculate the combination \\(\\binom{8}{3}\\).**\n",
      "\n",
      "Using the combination formula again:\n",
      "\n",
      "\\[\n",
      "\\binom{n}{k} = \\frac{n!}{k!(n-k)!}\n",
      "\\]\n",
      "\n",
      "Substituting the values \\(n = 8\\) and \\(k = 3\\):\n",
      "\n",
      "\\[\n",
      "\\binom{8}{3} = \\frac{8 \\times 7 \\times 6}{3 \\times 2 \\times 1} = 56\n",
      "\\]\n",
      "\n",
      "**Output:**\n",
      "\n",
      "There are 56 triangles that can be formed using only the vertices of the octagon.\n",
      "\n",
      "Now, let's find the total number of different triangles by summing both contributions.\n",
      "**Step 7: Calculate the total number of different triangles.**\n",
      "\n",
      "To find the total number of different triangles that can be formed, we sum the triangles that include the center with those that do not:\n",
      "\n",
      "- Triangles that include the center: 28\n",
      "- Triangles that exclude the center: 56\n",
      "\n",
      "Adding these two quantities gives us the total:\n",
      "\n",
      "\\[\n",
      "28 + 56 = 84\n",
      "\\]\n",
      "\n",
      "**Output:**\n",
      "\n",
      "The total number of different triangles that can be formed is 84. \n",
      "\n",
      "Next, we will verify the solution to ensure its correctness.\n"
     ]
    }
   ],
   "source": [
    "hard_question = (\n",
    "    \"Consider a regular octagon. How many different triangles can be formed \"\n",
    "    \"if the octagon is placed inside a circle and we can also use the center \"\n",
    "    \"of the circle as a vertex for the triangles? Let's think step by step.\"\n",
    ")\n",
    "flow = ThreadPoolScheduler.map(generate_tot_data, questions + [hard_question])\n",
    "results = flow.run()\n",
    "\n",
    "# Get the data for the last question\n",
    "for res in results[-1][1:]:\n",
    "    print(res.content)"
   ]
  },
  {
   "cell_type": "markdown",
   "metadata": {},
   "source": [
    "We can see that the hard problem has been solved successfully. We can also\n",
    "check the data generated for the question comparing 9.11 and 9.9, just for\n",
    "comparison with previous approaches like CoT."
   ]
  },
  {
   "cell_type": "code",
   "execution_count": 9,
   "metadata": {},
   "outputs": [
    {
     "name": "stdout",
     "output_type": "stream",
     "text": [
      "9.11 and 9.9, which one is bigger?\n",
      "To determine which number is bigger between 9.11 and 9.9, we need to compare each number's digits starting from the left.\n",
      "\n",
      "**Think**: Compare the whole number part of each value before considering decimal places. The whole number part of both 9.11 and 9.9 is 9. Since they are equal, the next step involves comparing the digits after the decimal point.\n",
      "\n",
      "**Output**: The whole numbers are equal, so let's now compare the decimal parts, 0.11 and 0.9. \n",
      "\n",
      "Next step: Compare the first digits after the decimal point (tenths place) for each number.\n",
      "**Think**: In the decimal parts 0.11 and 0.9, we first compare the tenths place (the first digit after the decimal point).\n",
      "\n",
      "- For 9.11, the digit in the tenths place is 1.\n",
      "- For 9.9, the digit in the tenths place is 9.\n",
      "\n",
      "Since 9 is greater than 1, 9.9 has a greater value in the tenths place. There is no need to compare further decimal places when this significant difference is found.\n",
      "\n",
      "**Output**: \n",
      "\n",
      "9.9 is greater than 9.11 because 9 in the tenths place of 9.9 is greater than 1 in the tenths place of 9.11.\n"
     ]
    }
   ],
   "source": [
    "for res in results[1][1:]:\n",
    "    print(res.content)"
   ]
  },
  {
   "cell_type": "markdown",
   "metadata": {},
   "source": [
    "## Another Example: Scoring Generated Data\n",
    "\n",
    "Now, I believe you already have a brief sense on how to use Synthora to\n",
    "generate simple, CoT and ToT data. At the end of this tutorial, we gonna walk\n",
    "through another case, where we will generate multiple entries of data on the\n",
    "same problem and let one agent to score each of them.\n",
    "\n",
    "First we can define a function used to score two entries of generated data:"
   ]
  },
  {
   "cell_type": "code",
   "execution_count": 10,
   "metadata": {},
   "outputs": [],
   "source": [
    "def score_response(\n",
    "    history1: List[BaseMessage], history2: List[BaseMessage], prompt: str\n",
    ") -> Dict[str, Any]:\n",
    "    response_format = get_pydantic_model('{\"score1\": 0.0, \"score2\": 0.0}')\n",
    "\n",
    "    system_prompt = textwrap.dedent(\n",
    "        f\"\"\"\\\n",
    "        You are a judge to score responses to the following question, scaling from 0 to 10.\n",
    "\n",
    "        {prompt}\n",
    "        \"\"\"  # noqa: E501\n",
    "    )\n",
    "    agent = VanillaAgent.default(system_prompt)\n",
    "    agent.model.config[\"response_format\"] = response_format\n",
    "\n",
    "    # Skip the system message in history\n",
    "    openai_history1 = [msg.to_openai_message() for msg in history1[1:]]\n",
    "    openai_history2 = [msg.to_openai_message() for msg in history2[1:]]\n",
    "\n",
    "    _history1 = \"\\n\".join(\n",
    "        [f\"{msg['role']}: {msg['content']}\" for msg in openai_history1]\n",
    "    )\n",
    "    _history2 = \"\\n\".join(\n",
    "        [f\"{msg['role']}: {msg['content']}\" for msg in openai_history2]\n",
    "    )\n",
    "\n",
    "    agent.history.append(user(f\"Response 1:\\n{_history1}\"))\n",
    "    agent.history.append(user(f\"Response 2:\\n{_history2}\"))\n",
    "    resp = agent.run(\"Please score the two responses.\").unwrap().parsed\n",
    "    result = {\n",
    "        \"chosen\": openai_history1\n",
    "        if resp.score1 > resp.score2\n",
    "        else openai_history2,\n",
    "        \"rejected\": openai_history2\n",
    "        if resp.score1 > resp.score2\n",
    "        else openai_history1,\n",
    "        \"score_chosen\": resp.score1\n",
    "        if resp.score1 > resp.score2\n",
    "        else resp.score2,\n",
    "        \"score_rejected\": resp.score2\n",
    "        if resp.score1 > resp.score2\n",
    "        else resp.score1,\n",
    "    }\n",
    "    return result"
   ]
  },
  {
   "cell_type": "markdown",
   "metadata": {},
   "source": [
    "Then we can define a function of generating two entries of data with the \n",
    "workflow like below, where two tasks (agents) will run concurrently trying to\n",
    "solve the same problem."
   ]
  },
  {
   "cell_type": "code",
   "execution_count": 11,
   "metadata": {},
   "outputs": [],
   "source": [
    "def generate_data(system1: str, system2: str, prompt: str) -> Dict[str, Any]:\n",
    "    agent1, agent2 = (\n",
    "        VanillaAgent.default(system1),\n",
    "        VanillaAgent.default(system2),\n",
    "    )\n",
    "    flow = (BaseTask(agent1.run) | BaseTask(agent2.run)).s(prompt)\n",
    "    _ = flow.run()\n",
    "    return score_response(agent1.history, agent2.history, prompt)"
   ]
  },
  {
   "cell_type": "markdown",
   "metadata": {},
   "source": [
    "For each problem, we can have a system message for it. For the consideration \n",
    "of convenience, we will use the same simple message for each problem."
   ]
  },
  {
   "cell_type": "code",
   "execution_count": 12,
   "metadata": {},
   "outputs": [],
   "source": [
    "system_message = \"You are an AI Assistant.\"\n",
    "system1 = [system_message for _ in questions]\n",
    "system2 = [system_message for _ in questions]"
   ]
  },
  {
   "cell_type": "markdown",
   "metadata": {},
   "source": [
    "Then we can run all the problems concurrently with `ProcessPoolScheduler`, \n",
    "which can run tasks with multi-process approach.\n",
    "\n",
    "> Here we have two nested parallelism, which is supported by nested workflow:\n",
    "> \n",
    "> 1. The outmost workflow works with multi-process, where each problem takes\n",
    ">   up a process to be solved.\n",
    "> 2. Inside each process, there will also be a workflow, where two agents are\n",
    ">   trying to solve the same problem concurrently with multi-thread."
   ]
  },
  {
   "cell_type": "code",
   "execution_count": 13,
   "metadata": {},
   "outputs": [],
   "source": [
    "flow = ProcessPoolScheduler.starmap(\n",
    "    BaseTask(generate_data), zip(system1, system2, questions)\n",
    ")\n",
    "results = flow.run()"
   ]
  },
  {
   "cell_type": "markdown",
   "metadata": {},
   "source": [
    "Then we can print the result to see the accepted and rejected data to each\n",
    "problem, according to the score:"
   ]
  },
  {
   "cell_type": "code",
   "execution_count": 14,
   "metadata": {},
   "outputs": [
    {
     "name": "stdout",
     "output_type": "stream",
     "text": [
      "{'chosen': [{'content': \"How many letters 'r' in the word 'strawberry'?\", 'role': 'user', 'name': 'user'}, {'content': 'The word \"strawberry\" contains 2 letters \"r\".', 'role': 'assistant', 'name': 'gpt-4o'}], 'rejected': [{'content': \"How many letters 'r' in the word 'strawberry'?\", 'role': 'user', 'name': 'user'}, {'content': \"There are two letters 'r' in the word 'strawberry'.\", 'role': 'assistant', 'name': 'gpt-4o'}], 'score_chosen': 10.0, 'score_rejected': 4.0}\n",
      "{'chosen': [{'content': '9.11 and 9.9, which one is bigger?', 'role': 'user', 'name': 'user'}, {'content': '9.11 is bigger than 9.9. When comparing decimal numbers, you can compare them digit by digit from left to right. In this case, they both start with a 9, but in the tenths place, we have 1 for 9.11 and 9 for 9.9. Since 11 hundredths (0.11) is greater than 9 tenths (0.9), 9.11 is the larger number.', 'role': 'assistant', 'name': 'gpt-4o'}], 'rejected': [{'content': '9.11 and 9.9, which one is bigger?', 'role': 'user', 'name': 'user'}, {'content': 'The number 9.11 is larger than 9.9. When comparing decimal numbers, you look at the whole number part first, which is 9 in both cases. Then you compare the decimal part; 11 is greater than 9, so 9.11 is greater than 9.9.', 'role': 'assistant', 'name': 'gpt-4o'}], 'score_chosen': 9.0, 'score_rejected': 6.0}\n"
     ]
    }
   ],
   "source": [
    "for result in results:\n",
    "    print(result)"
   ]
  },
  {
   "cell_type": "markdown",
   "metadata": {},
   "source": [
    "## Highlights\n",
    "\n",
    "In this tutorial, we walked through the generation of simple SFT data, CoT\n",
    "data, and ToT data, with the support of workflow in Synthora. At last, we\n",
    "introduced an example, where we can generate multiple entries of data \n",
    "concurrently, taking leverage of the support of nested workflow.\n",
    " \n",
    "\n",
    "## About Synthora\n",
    "\n",
    "Synthora is a lightweight and extensible framework for LLM-driven Agents and \n",
    "ALM research. It provides essential components to build, test and evaluate \n",
    "agents. At its core, Synthora aims to assemble an agent with a single config, \n",
    "thus minimizing your effort in building, tuning, and sharing agents.\n",
    "\n",
    "If you find this tutorial interesting, feel free to visit our\n",
    "[GitHub Repo](https://github.com/syntropix-ai/synthora) and leave a star🌟!\n",
    "Any feedback from you will mean a lot to us."
   ]
  }
 ],
 "metadata": {
  "kernelspec": {
   "display_name": ".venv",
   "language": "python",
   "name": "python3"
  },
  "language_info": {
   "codemirror_mode": {
    "name": "ipython",
    "version": 3
   },
   "file_extension": ".py",
   "mimetype": "text/x-python",
   "name": "python",
   "nbconvert_exporter": "python",
   "pygments_lexer": "ipython3",
   "version": "3.13.1"
  }
 },
 "nbformat": 4,
 "nbformat_minor": 2
}
